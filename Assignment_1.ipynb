{
  "nbformat": 4,
  "nbformat_minor": 0,
  "metadata": {
    "colab": {
      "name": "Assignment 1",
      "provenance": [],
      "authorship_tag": "ABX9TyP4/o62BC3r8uNlFxQkOXz8",
      "include_colab_link": true
    },
    "kernelspec": {
      "name": "python3",
      "display_name": "Python 3"
    },
    "language_info": {
      "name": "python"
    }
  },
  "cells": [
    {
      "cell_type": "markdown",
      "metadata": {
        "id": "view-in-github",
        "colab_type": "text"
      },
      "source": [
        "<a href=\"https://colab.research.google.com/github/srinath68/NNDL/blob/main/Assignment_1.ipynb\" target=\"_parent\"><img src=\"https://colab.research.google.com/assets/colab-badge.svg\" alt=\"Open In Colab\"/></a>"
      ]
    },
    {
      "cell_type": "code",
      "metadata": {
        "colab": {
          "base_uri": "https://localhost:8080/"
        },
        "id": "DzxIRsEajM_I",
        "outputId": "d961e6ab-ad99-4e25-b219-8fd6e83fb11e"
      },
      "source": [
        "from sympy import *\n",
        "x=Symbol('x')\n",
        "f=x**4+3*x**2+10\n",
        "#learning rate\n",
        "n=0.001\n",
        "max_iterations=1000\n",
        "iter=0\n",
        "fd=f.diff(x)\n",
        "f=lambdify(x,f)\n",
        "fd=lambdify(x,fd)\n",
        "x=10\n",
        "while iter<max_iterations:\n",
        "  x=x-(n*fd(x))\n",
        "  iter=iter+1\n",
        "else:\n",
        "  f=int(f(x))\n",
        "  x=int(x)\n",
        "  print(\"Minimun Value of f(x)=\"+str(f)+ \" at x=\"+str(x))"
      ],
      "execution_count": 1,
      "outputs": [
        {
          "output_type": "stream",
          "text": [
            "Minimun Value of f(x)=10 at x=0\n"
          ],
          "name": "stdout"
        }
      ]
    }
  ]
}