{
  "nbformat": 4,
  "nbformat_minor": 0,
  "metadata": {
    "colab": {
      "name": "momentum gradient descent on dataset.ipynb",
      "provenance": [],
      "collapsed_sections": [],
      "toc_visible": true
    },
    "kernelspec": {
      "name": "python3",
      "display_name": "Python 3"
    }
  },
  "cells": [
    {
      "cell_type": "markdown",
      "metadata": {
        "id": "tXZnjHHKGFVR"
      },
      "source": [
        "## MOMENTUM GRADIENT DESCENT OPTIMISER"
      ]
    },
    {
      "cell_type": "code",
      "metadata": {
        "id": "XrE4EEIsERFg"
      },
      "source": [
        "import numpy as np\r\n",
        "import matplotlib.pyplot as plt\r\n",
        "import pandas as pd\r\n",
        "from sklearn.preprocessing import minmax_scale\r\n",
        "from sklearn.model_selection import train_test_split\r\n",
        "import seaborn as sns\r\n"
      ],
      "execution_count": 127,
      "outputs": []
    },
    {
      "cell_type": "code",
      "metadata": {
        "colab": {
          "base_uri": "https://localhost:8080/",
          "height": 202
        },
        "id": "Y-FU4Bz3HB6G",
        "outputId": "592d6e5c-1c7b-49ea-d7ab-f449d7125609"
      },
      "source": [
        "load_data = pd.read_excel(\"Load Data in kW.xlsx\")\r\n",
        "load_data.head()\r\n"
      ],
      "execution_count": 128,
      "outputs": [
        {
          "output_type": "execute_result",
          "data": {
            "text/html": [
              "<div>\n",
              "<style scoped>\n",
              "    .dataframe tbody tr th:only-of-type {\n",
              "        vertical-align: middle;\n",
              "    }\n",
              "\n",
              "    .dataframe tbody tr th {\n",
              "        vertical-align: top;\n",
              "    }\n",
              "\n",
              "    .dataframe thead th {\n",
              "        text-align: right;\n",
              "    }\n",
              "</style>\n",
              "<table border=\"1\" class=\"dataframe\">\n",
              "  <thead>\n",
              "    <tr style=\"text-align: right;\">\n",
              "      <th></th>\n",
              "      <th>5551.82208</th>\n",
              "    </tr>\n",
              "  </thead>\n",
              "  <tbody>\n",
              "    <tr>\n",
              "      <th>0</th>\n",
              "      <td>4983.17184</td>\n",
              "    </tr>\n",
              "    <tr>\n",
              "      <th>1</th>\n",
              "      <td>4888.39680</td>\n",
              "    </tr>\n",
              "    <tr>\n",
              "      <th>2</th>\n",
              "      <td>5072.95872</td>\n",
              "    </tr>\n",
              "    <tr>\n",
              "      <th>3</th>\n",
              "      <td>5196.25980</td>\n",
              "    </tr>\n",
              "    <tr>\n",
              "      <th>4</th>\n",
              "      <td>5641.29720</td>\n",
              "    </tr>\n",
              "  </tbody>\n",
              "</table>\n",
              "</div>"
            ],
            "text/plain": [
              "   5551.82208\n",
              "0  4983.17184\n",
              "1  4888.39680\n",
              "2  5072.95872\n",
              "3  5196.25980\n",
              "4  5641.29720"
            ]
          },
          "metadata": {
            "tags": []
          },
          "execution_count": 128
        }
      ]
    },
    {
      "cell_type": "code",
      "metadata": {
        "id": "aSpLlSUbH3lQ",
        "colab": {
          "base_uri": "https://localhost:8080/"
        },
        "outputId": "cf1d6881-46db-4bda-84ab-3026156ff2e4"
      },
      "source": [
        "type(load_data)"
      ],
      "execution_count": 129,
      "outputs": [
        {
          "output_type": "execute_result",
          "data": {
            "text/plain": [
              "pandas.core.frame.DataFrame"
            ]
          },
          "metadata": {
            "tags": []
          },
          "execution_count": 129
        }
      ]
    },
    {
      "cell_type": "code",
      "metadata": {
        "id": "D-2gdybHIwCM"
      },
      "source": [
        "data = load_data.rename(columns={5551.82208:'load'},inplace=False)\r\n"
      ],
      "execution_count": 130,
      "outputs": []
    },
    {
      "cell_type": "code",
      "metadata": {
        "colab": {
          "base_uri": "https://localhost:8080/",
          "height": 202
        },
        "id": "_xMgxJLnI_Ve",
        "outputId": "b7e1d6f4-672d-46c8-c618-5b582533c707"
      },
      "source": [
        "data.head()"
      ],
      "execution_count": 131,
      "outputs": [
        {
          "output_type": "execute_result",
          "data": {
            "text/html": [
              "<div>\n",
              "<style scoped>\n",
              "    .dataframe tbody tr th:only-of-type {\n",
              "        vertical-align: middle;\n",
              "    }\n",
              "\n",
              "    .dataframe tbody tr th {\n",
              "        vertical-align: top;\n",
              "    }\n",
              "\n",
              "    .dataframe thead th {\n",
              "        text-align: right;\n",
              "    }\n",
              "</style>\n",
              "<table border=\"1\" class=\"dataframe\">\n",
              "  <thead>\n",
              "    <tr style=\"text-align: right;\">\n",
              "      <th></th>\n",
              "      <th>load</th>\n",
              "    </tr>\n",
              "  </thead>\n",
              "  <tbody>\n",
              "    <tr>\n",
              "      <th>0</th>\n",
              "      <td>4983.17184</td>\n",
              "    </tr>\n",
              "    <tr>\n",
              "      <th>1</th>\n",
              "      <td>4888.39680</td>\n",
              "    </tr>\n",
              "    <tr>\n",
              "      <th>2</th>\n",
              "      <td>5072.95872</td>\n",
              "    </tr>\n",
              "    <tr>\n",
              "      <th>3</th>\n",
              "      <td>5196.25980</td>\n",
              "    </tr>\n",
              "    <tr>\n",
              "      <th>4</th>\n",
              "      <td>5641.29720</td>\n",
              "    </tr>\n",
              "  </tbody>\n",
              "</table>\n",
              "</div>"
            ],
            "text/plain": [
              "         load\n",
              "0  4983.17184\n",
              "1  4888.39680\n",
              "2  5072.95872\n",
              "3  5196.25980\n",
              "4  5641.29720"
            ]
          },
          "metadata": {
            "tags": []
          },
          "execution_count": 131
        }
      ]
    },
    {
      "cell_type": "code",
      "metadata": {
        "colab": {
          "base_uri": "https://localhost:8080/"
        },
        "id": "kY2qypCCJZiJ",
        "outputId": "e7407d65-521b-400a-84f6-18bce99b9813"
      },
      "source": [
        "data.shape"
      ],
      "execution_count": 132,
      "outputs": [
        {
          "output_type": "execute_result",
          "data": {
            "text/plain": [
              "(2183, 1)"
            ]
          },
          "metadata": {
            "tags": []
          },
          "execution_count": 132
        }
      ]
    },
    {
      "cell_type": "code",
      "metadata": {
        "colab": {
          "base_uri": "https://localhost:8080/",
          "height": 294
        },
        "id": "kGTyDfzlJfls",
        "outputId": "db9d76f6-2370-4821-b1dd-12f6e2abb0ee"
      },
      "source": [
        "data.describe()"
      ],
      "execution_count": 133,
      "outputs": [
        {
          "output_type": "execute_result",
          "data": {
            "text/html": [
              "<div>\n",
              "<style scoped>\n",
              "    .dataframe tbody tr th:only-of-type {\n",
              "        vertical-align: middle;\n",
              "    }\n",
              "\n",
              "    .dataframe tbody tr th {\n",
              "        vertical-align: top;\n",
              "    }\n",
              "\n",
              "    .dataframe thead th {\n",
              "        text-align: right;\n",
              "    }\n",
              "</style>\n",
              "<table border=\"1\" class=\"dataframe\">\n",
              "  <thead>\n",
              "    <tr style=\"text-align: right;\">\n",
              "      <th></th>\n",
              "      <th>load</th>\n",
              "    </tr>\n",
              "  </thead>\n",
              "  <tbody>\n",
              "    <tr>\n",
              "      <th>count</th>\n",
              "      <td>2183.000000</td>\n",
              "    </tr>\n",
              "    <tr>\n",
              "      <th>mean</th>\n",
              "      <td>6393.616060</td>\n",
              "    </tr>\n",
              "    <tr>\n",
              "      <th>std</th>\n",
              "      <td>17143.020064</td>\n",
              "    </tr>\n",
              "    <tr>\n",
              "      <th>min</th>\n",
              "      <td>3377.919600</td>\n",
              "    </tr>\n",
              "    <tr>\n",
              "      <th>25%</th>\n",
              "      <td>5257.520640</td>\n",
              "    </tr>\n",
              "    <tr>\n",
              "      <th>50%</th>\n",
              "      <td>5935.910400</td>\n",
              "    </tr>\n",
              "    <tr>\n",
              "      <th>75%</th>\n",
              "      <td>6738.692400</td>\n",
              "    </tr>\n",
              "    <tr>\n",
              "      <th>max</th>\n",
              "      <td>805444.430400</td>\n",
              "    </tr>\n",
              "  </tbody>\n",
              "</table>\n",
              "</div>"
            ],
            "text/plain": [
              "                load\n",
              "count    2183.000000\n",
              "mean     6393.616060\n",
              "std     17143.020064\n",
              "min      3377.919600\n",
              "25%      5257.520640\n",
              "50%      5935.910400\n",
              "75%      6738.692400\n",
              "max    805444.430400"
            ]
          },
          "metadata": {
            "tags": []
          },
          "execution_count": 133
        }
      ]
    },
    {
      "cell_type": "code",
      "metadata": {
        "colab": {
          "base_uri": "https://localhost:8080/"
        },
        "id": "x-Jrx_2ZJjxw",
        "outputId": "1b880735-8327-4a1a-876e-f14abbbff955"
      },
      "source": [
        "data.info()"
      ],
      "execution_count": 134,
      "outputs": [
        {
          "output_type": "stream",
          "text": [
            "<class 'pandas.core.frame.DataFrame'>\n",
            "RangeIndex: 2183 entries, 0 to 2182\n",
            "Data columns (total 1 columns):\n",
            " #   Column  Non-Null Count  Dtype  \n",
            "---  ------  --------------  -----  \n",
            " 0   load    2183 non-null   float64\n",
            "dtypes: float64(1)\n",
            "memory usage: 17.2 KB\n"
          ],
          "name": "stdout"
        }
      ]
    },
    {
      "cell_type": "code",
      "metadata": {
        "colab": {
          "base_uri": "https://localhost:8080/",
          "height": 79
        },
        "id": "-o6_VCLHJk-n",
        "outputId": "a65b0905-fe2b-472b-aaa9-8be61f68dd42"
      },
      "source": [
        "data.corr()"
      ],
      "execution_count": 135,
      "outputs": [
        {
          "output_type": "execute_result",
          "data": {
            "text/html": [
              "<div>\n",
              "<style scoped>\n",
              "    .dataframe tbody tr th:only-of-type {\n",
              "        vertical-align: middle;\n",
              "    }\n",
              "\n",
              "    .dataframe tbody tr th {\n",
              "        vertical-align: top;\n",
              "    }\n",
              "\n",
              "    .dataframe thead th {\n",
              "        text-align: right;\n",
              "    }\n",
              "</style>\n",
              "<table border=\"1\" class=\"dataframe\">\n",
              "  <thead>\n",
              "    <tr style=\"text-align: right;\">\n",
              "      <th></th>\n",
              "      <th>load</th>\n",
              "    </tr>\n",
              "  </thead>\n",
              "  <tbody>\n",
              "    <tr>\n",
              "      <th>load</th>\n",
              "      <td>1.0</td>\n",
              "    </tr>\n",
              "  </tbody>\n",
              "</table>\n",
              "</div>"
            ],
            "text/plain": [
              "      load\n",
              "load   1.0"
            ]
          },
          "metadata": {
            "tags": []
          },
          "execution_count": 135
        }
      ]
    },
    {
      "cell_type": "markdown",
      "metadata": {
        "id": "KsNiuXNdXzBi"
      },
      "source": [
        "## VALIDATING NULL VALUE"
      ]
    },
    {
      "cell_type": "code",
      "metadata": {
        "colab": {
          "base_uri": "https://localhost:8080/"
        },
        "id": "FxssbnKzXvfW",
        "outputId": "846252d6-325e-49e5-e884-0b043bcc1e9a"
      },
      "source": [
        "data.isnull().sum()"
      ],
      "execution_count": 136,
      "outputs": [
        {
          "output_type": "execute_result",
          "data": {
            "text/plain": [
              "load    0\n",
              "dtype: int64"
            ]
          },
          "metadata": {
            "tags": []
          },
          "execution_count": 136
        }
      ]
    },
    {
      "cell_type": "markdown",
      "metadata": {
        "id": "2IOUdTmJW6da"
      },
      "source": [
        "## VISUALISING OUTLINERS OF DATA"
      ]
    },
    {
      "cell_type": "code",
      "metadata": {
        "colab": {
          "base_uri": "https://localhost:8080/",
          "height": 297
        },
        "id": "Iv-VqulRJmdp",
        "outputId": "4ef93e79-5a46-46f3-f168-d07a09634528"
      },
      "source": [
        "sns.boxplot(x=data['load'])"
      ],
      "execution_count": 137,
      "outputs": [
        {
          "output_type": "execute_result",
          "data": {
            "text/plain": [
              "<matplotlib.axes._subplots.AxesSubplot at 0x7fbbf63239d0>"
            ]
          },
          "metadata": {
            "tags": []
          },
          "execution_count": 137
        },
        {
          "output_type": "display_data",
          "data": {
            "image/png": "[encoded data removed]",
            "text/plain": [
              "<Figure size 432x288 with 1 Axes>"
            ]
          },
          "metadata": {
            "tags": [],
            "needs_background": "light"
          }
        }
      ]
    },
    {
      "cell_type": "code",
      "metadata": {
        "colab": {
          "base_uri": "https://localhost:8080/"
        },
        "id": "9ChB4ZlAJs76",
        "outputId": "a5415213-b78e-44ee-def1-60fc8c2239fe"
      },
      "source": [
        "from scipy import stats\r\n",
        "\r\n",
        "z = np.abs(stats.zscore(load_data.iloc[:,0]))\r\n",
        "\r\n",
        "threshold = 3\r\n",
        "print(np.where(z > 3))"
      ],
      "execution_count": 138,
      "outputs": [
        {
          "output_type": "stream",
          "text": [
            "(array([928]),)\n"
          ],
          "name": "stdout"
        }
      ]
    },
    {
      "cell_type": "markdown",
      "metadata": {
        "id": "GfSLEspJJyW8"
      },
      "source": [
        " ### From boxplot and from above zscore calculation, we can conclude that there is one outliner. lets replace it."
      ]
    },
    {
      "cell_type": "code",
      "metadata": {
        "id": "k34d7jL9JxG2"
      },
      "source": [
        "data.iloc[928,0] = data.iloc[927,0]"
      ],
      "execution_count": 139,
      "outputs": []
    },
    {
      "cell_type": "markdown",
      "metadata": {
        "id": "clAUg6IVXAi8"
      },
      "source": [
        "### AFTER REPLACING THE OUTLINER"
      ]
    },
    {
      "cell_type": "code",
      "metadata": {
        "colab": {
          "base_uri": "https://localhost:8080/",
          "height": 297
        },
        "id": "Yr2L1iRfKGzq",
        "outputId": "044a82b1-c5ff-4f15-9614-8a4b6a348e47"
      },
      "source": [
        "sns.boxplot(x=data['load'])"
      ],
      "execution_count": 140,
      "outputs": [
        {
          "output_type": "execute_result",
          "data": {
            "text/plain": [
              "<matplotlib.axes._subplots.AxesSubplot at 0x7fbbf53aa910>"
            ]
          },
          "metadata": {
            "tags": []
          },
          "execution_count": 140
        },
        {
          "output_type": "display_data",
          "data": {
            "image/png": "[encoded data removed]",
            "text/plain": [
              "<Figure size 432x288 with 1 Axes>"
            ]
          },
          "metadata": {
            "tags": [],
            "needs_background": "light"
          }
        }
      ]
    },
    {
      "cell_type": "markdown",
      "metadata": {
        "id": "LB8YojpAKkKI"
      },
      "source": [
        "### now all outliners are removed and now we are good to train the model"
      ]
    },
    {
      "cell_type": "code",
      "metadata": {
        "id": "TFlwvNjGKitD"
      },
      "source": [
        "data_x = []\r\n",
        "data_y = []\r\n",
        "for i in range(0,len(data)-24):\r\n",
        "  data_x.append(data.iloc[i,0])\r\n",
        "  data_y.append(data.iloc[i+24,0])"
      ],
      "execution_count": 141,
      "outputs": []
    },
    {
      "cell_type": "code",
      "metadata": {
        "colab": {
          "base_uri": "https://localhost:8080/",
          "height": 295
        },
        "id": "JbUxNI_pK2EK",
        "outputId": "73044555-be98-4001-d8a1-3d83cd2740d8"
      },
      "source": [
        "plt.scatter(data_x,data_y)\r\n",
        "plt.title(\"load data visualisation\")\r\n",
        "plt.xlabel(\"yesterday load at ith hour\")\r\n",
        "plt.ylabel(\"todays load at ith hour\")\r\n",
        "plt.grid()"
      ],
      "execution_count": 142,
      "outputs": [
        {
          "output_type": "display_data",
          "data": {
            "image/png": "[encoded data removed]",
            "text/plain": [
              "<Figure size 432x288 with 1 Axes>"
            ]
          },
          "metadata": {
            "tags": [],
            "needs_background": "light"
          }
        }
      ]
    },
    {
      "cell_type": "code",
      "metadata": {
        "colab": {
          "base_uri": "https://localhost:8080/"
        },
        "id": "Tkhx3zp-UMFy",
        "outputId": "98bb1885-aac3-421a-c70d-5e4b252b0a75"
      },
      "source": [
        "data_xx = pd.DataFrame(data_x)\r\n",
        "min_x = float(data_xx.min())\r\n",
        "max_x = float(data_xx.max())\r\n",
        "data_yy = pd.DataFrame(data_y)\r\n",
        "min_y = float(data_yy.min())\r\n",
        "max_y = float(data_yy.max())\r\n",
        "print(min_x)\r\n",
        "print(min_y)\r\n",
        "print(max_x)\r\n",
        "print(max_y)"
      ],
      "execution_count": 143,
      "outputs": [
        {
          "output_type": "stream",
          "text": [
            "3377.9196\n",
            "3377.9196\n",
            "8841.66948\n",
            "8841.66948\n"
          ],
          "name": "stdout"
        }
      ]
    },
    {
      "cell_type": "markdown",
      "metadata": {
        "id": "1oxMJqzpXMrH"
      },
      "source": [
        "## DATA NORMALISATION"
      ]
    },
    {
      "cell_type": "code",
      "metadata": {
        "id": "4K8CVSUWK9qi"
      },
      "source": [
        "x = minmax_scale(data_x)\r\n",
        "y = minmax_scale(data_y)"
      ],
      "execution_count": 144,
      "outputs": []
    },
    {
      "cell_type": "code",
      "metadata": {
        "colab": {
          "base_uri": "https://localhost:8080/",
          "height": 415
        },
        "id": "3cMB_j5bMiJ9",
        "outputId": "a90a5c2b-8350-4ca7-ec20-43cc5bff6a19"
      },
      "source": [
        "data_norm = []\r\n",
        "for i in range(len(data)-24):\r\n",
        "  data_norm.append([x[i],y[i]])\r\n",
        "\r\n",
        "data_norm = pd.DataFrame(data_norm)\r\n",
        "data_norm\r\n"
      ],
      "execution_count": 145,
      "outputs": [
        {
          "output_type": "execute_result",
          "data": {
            "text/html": [
              "<div>\n",
              "<style scoped>\n",
              "    .dataframe tbody tr th:only-of-type {\n",
              "        vertical-align: middle;\n",
              "    }\n",
              "\n",
              "    .dataframe tbody tr th {\n",
              "        vertical-align: top;\n",
              "    }\n",
              "\n",
              "    .dataframe thead th {\n",
              "        text-align: right;\n",
              "    }\n",
              "</style>\n",
              "<table border=\"1\" class=\"dataframe\">\n",
              "  <thead>\n",
              "    <tr style=\"text-align: right;\">\n",
              "      <th></th>\n",
              "      <th>0</th>\n",
              "      <th>1</th>\n",
              "    </tr>\n",
              "  </thead>\n",
              "  <tbody>\n",
              "    <tr>\n",
              "      <th>0</th>\n",
              "      <td>0.293800</td>\n",
              "      <td>0.255799</td>\n",
              "    </tr>\n",
              "    <tr>\n",
              "      <th>1</th>\n",
              "      <td>0.276454</td>\n",
              "      <td>0.244501</td>\n",
              "    </tr>\n",
              "    <tr>\n",
              "      <th>2</th>\n",
              "      <td>0.310234</td>\n",
              "      <td>0.239965</td>\n",
              "    </tr>\n",
              "    <tr>\n",
              "      <th>3</th>\n",
              "      <td>0.332801</td>\n",
              "      <td>0.268466</td>\n",
              "    </tr>\n",
              "    <tr>\n",
              "      <th>4</th>\n",
              "      <td>0.414254</td>\n",
              "      <td>0.401472</td>\n",
              "    </tr>\n",
              "    <tr>\n",
              "      <th>...</th>\n",
              "      <td>...</td>\n",
              "      <td>...</td>\n",
              "    </tr>\n",
              "    <tr>\n",
              "      <th>2154</th>\n",
              "      <td>0.231719</td>\n",
              "      <td>0.228524</td>\n",
              "    </tr>\n",
              "    <tr>\n",
              "      <th>2155</th>\n",
              "      <td>0.445808</td>\n",
              "      <td>0.217797</td>\n",
              "    </tr>\n",
              "    <tr>\n",
              "      <th>2156</th>\n",
              "      <td>0.684146</td>\n",
              "      <td>0.246298</td>\n",
              "    </tr>\n",
              "    <tr>\n",
              "      <th>2157</th>\n",
              "      <td>0.514679</td>\n",
              "      <td>0.324384</td>\n",
              "    </tr>\n",
              "    <tr>\n",
              "      <th>2158</th>\n",
              "      <td>0.417306</td>\n",
              "      <td>0.651650</td>\n",
              "    </tr>\n",
              "  </tbody>\n",
              "</table>\n",
              "<p>2159 rows × 2 columns</p>\n",
              "</div>"
            ],
            "text/plain": [
              "             0         1\n",
              "0     0.293800  0.255799\n",
              "1     0.276454  0.244501\n",
              "2     0.310234  0.239965\n",
              "3     0.332801  0.268466\n",
              "4     0.414254  0.401472\n",
              "...        ...       ...\n",
              "2154  0.231719  0.228524\n",
              "2155  0.445808  0.217797\n",
              "2156  0.684146  0.246298\n",
              "2157  0.514679  0.324384\n",
              "2158  0.417306  0.651650\n",
              "\n",
              "[2159 rows x 2 columns]"
            ]
          },
          "metadata": {
            "tags": []
          },
          "execution_count": 145
        }
      ]
    },
    {
      "cell_type": "markdown",
      "metadata": {
        "id": "GcBA1MIPXSpA"
      },
      "source": [
        "## SPLITTING DATA SET"
      ]
    },
    {
      "cell_type": "code",
      "metadata": {
        "id": "fE-T5lmpMnuz"
      },
      "source": [
        "from sklearn.model_selection import train_test_split\r\n",
        "data_train,data_test = train_test_split(data_norm,test_size=0.1)"
      ],
      "execution_count": 146,
      "outputs": []
    },
    {
      "cell_type": "code",
      "metadata": {
        "colab": {
          "base_uri": "https://localhost:8080/",
          "height": 202
        },
        "id": "Rux8AW2LNakF",
        "outputId": "47cb0868-ec99-4b7c-81bf-cab1194d7737"
      },
      "source": [
        "data_norm.head()"
      ],
      "execution_count": 147,
      "outputs": [
        {
          "output_type": "execute_result",
          "data": {
            "text/html": [
              "<div>\n",
              "<style scoped>\n",
              "    .dataframe tbody tr th:only-of-type {\n",
              "        vertical-align: middle;\n",
              "    }\n",
              "\n",
              "    .dataframe tbody tr th {\n",
              "        vertical-align: top;\n",
              "    }\n",
              "\n",
              "    .dataframe thead th {\n",
              "        text-align: right;\n",
              "    }\n",
              "</style>\n",
              "<table border=\"1\" class=\"dataframe\">\n",
              "  <thead>\n",
              "    <tr style=\"text-align: right;\">\n",
              "      <th></th>\n",
              "      <th>0</th>\n",
              "      <th>1</th>\n",
              "    </tr>\n",
              "  </thead>\n",
              "  <tbody>\n",
              "    <tr>\n",
              "      <th>0</th>\n",
              "      <td>0.293800</td>\n",
              "      <td>0.255799</td>\n",
              "    </tr>\n",
              "    <tr>\n",
              "      <th>1</th>\n",
              "      <td>0.276454</td>\n",
              "      <td>0.244501</td>\n",
              "    </tr>\n",
              "    <tr>\n",
              "      <th>2</th>\n",
              "      <td>0.310234</td>\n",
              "      <td>0.239965</td>\n",
              "    </tr>\n",
              "    <tr>\n",
              "      <th>3</th>\n",
              "      <td>0.332801</td>\n",
              "      <td>0.268466</td>\n",
              "    </tr>\n",
              "    <tr>\n",
              "      <th>4</th>\n",
              "      <td>0.414254</td>\n",
              "      <td>0.401472</td>\n",
              "    </tr>\n",
              "  </tbody>\n",
              "</table>\n",
              "</div>"
            ],
            "text/plain": [
              "          0         1\n",
              "0  0.293800  0.255799\n",
              "1  0.276454  0.244501\n",
              "2  0.310234  0.239965\n",
              "3  0.332801  0.268466\n",
              "4  0.414254  0.401472"
            ]
          },
          "metadata": {
            "tags": []
          },
          "execution_count": 147
        }
      ]
    },
    {
      "cell_type": "code",
      "metadata": {
        "id": "e2_HNt-ZOE25"
      },
      "source": [
        "data_x = np.array(data_train[0])"
      ],
      "execution_count": 148,
      "outputs": []
    },
    {
      "cell_type": "code",
      "metadata": {
        "id": "lyvLbP5tOIkn"
      },
      "source": [
        "data_y = np.array(data_train[1])"
      ],
      "execution_count": 149,
      "outputs": []
    },
    {
      "cell_type": "code",
      "metadata": {
        "colab": {
          "base_uri": "https://localhost:8080/"
        },
        "id": "l54gu56ROLur",
        "outputId": "219b2a94-750b-45ab-b74a-c0a9da8e0361"
      },
      "source": [
        "len(data_x)"
      ],
      "execution_count": 150,
      "outputs": [
        {
          "output_type": "execute_result",
          "data": {
            "text/plain": [
              "1943"
            ]
          },
          "metadata": {
            "tags": []
          },
          "execution_count": 150
        }
      ]
    },
    {
      "cell_type": "code",
      "metadata": {
        "colab": {
          "base_uri": "https://localhost:8080/"
        },
        "id": "jXNyG3IdOV61",
        "outputId": "ded7fd15-726c-49f0-e44e-9599e8676cf8"
      },
      "source": [
        "len(data_test)"
      ],
      "execution_count": 151,
      "outputs": [
        {
          "output_type": "execute_result",
          "data": {
            "text/plain": [
              "216"
            ]
          },
          "metadata": {
            "tags": []
          },
          "execution_count": 151
        }
      ]
    },
    {
      "cell_type": "markdown",
      "metadata": {
        "id": "hfJKrQzLXWO3"
      },
      "source": [
        "### TRAINING THE MODEL"
      ]
    },
    {
      "cell_type": "code",
      "metadata": {
        "id": "8DkHwrj3OZlM"
      },
      "source": [
        "#STEP 2: initialising required parameters\r\n",
        "m = 1\r\n",
        "c = -1\r\n",
        "iter = 1\r\n",
        "epochs = 100\r\n",
        "alpha = 0.1\r\n",
        "ns = len(data_train)\r\n",
        "error = []\r\n",
        "vm = 0\r\n",
        "vc = 0\r\n",
        "moment = 0.9"
      ],
      "execution_count": 152,
      "outputs": []
    },
    {
      "cell_type": "code",
      "metadata": {
        "colab": {
          "base_uri": "https://localhost:8080/"
        },
        "id": "9hBfBq3POvCl",
        "outputId": "24417b68-3323-4580-ce37-09ad5aa2d617"
      },
      "source": [
        "# while loop is runned until iter reaches epochs\r\n",
        "while (iter<=epochs):\r\n",
        "  # running for loop to calculate and update model parameters for each sample\r\n",
        "  for i in range(0,len(data_train)):\r\n",
        "    # calculating derivatives of m and c\r\n",
        "    der_m = (-1) * ((data_y[i] - (m * data_x[i]) - c ))*(data_x[i])\r\n",
        "    der_c = (-1) * (data_y[i] - (m * data_x[i]) - c )\r\n",
        "    # print(\"derivatives at \",i,\"   \",der_m,der_c)\r\n",
        "\r\n",
        "    # calculating change in m and c\r\n",
        "    vm = (moment * vm) - (alpha * der_m)\r\n",
        "    vc = (moment * vc) - (alpha * der_c)\r\n",
        "    # print(\"changes at \",i,vm,vc)\r\n",
        "\r\n",
        "    #updating m and c\r\n",
        "    m = m + vm\r\n",
        "    c = c + vc\r\n",
        "    # print(\"values at\",i,m,c)\r\n",
        "\r\n",
        "  err=0\r\n",
        "  for i in range(0,len(data_train)):\r\n",
        "    err+=((data_y[i] - (m * data_x[i]) - c))**2\r\n",
        "  err = (1/(2*len(data_train))) * err\r\n",
        "  error.append(err)\r\n",
        "    #incrementing no of iterations\r\n",
        "  iter = iter + 1\r\n",
        " \r\n",
        "\r\n",
        "  \r\n",
        "print(m,c)\r\n",
        "\r\n"
      ],
      "execution_count": 153,
      "outputs": [
        {
          "output_type": "stream",
          "text": [
            "0.9126061472519963 0.023979287387560628\n"
          ],
          "name": "stdout"
        }
      ]
    },
    {
      "cell_type": "code",
      "metadata": {
        "colab": {
          "base_uri": "https://localhost:8080/"
        },
        "id": "iEJ3MKUEO_9P",
        "outputId": "e146dd67-617b-4db1-a78f-5e5f0c2ab18c"
      },
      "source": [
        "len(error)"
      ],
      "execution_count": 154,
      "outputs": [
        {
          "output_type": "execute_result",
          "data": {
            "text/plain": [
              "100"
            ]
          },
          "metadata": {
            "tags": []
          },
          "execution_count": 154
        }
      ]
    },
    {
      "cell_type": "code",
      "metadata": {
        "id": "nWTVUPNuPBZQ"
      },
      "source": [
        "iters = np.arange(epochs)"
      ],
      "execution_count": 155,
      "outputs": []
    },
    {
      "cell_type": "code",
      "metadata": {
        "id": "7J5zBqAvPGz7"
      },
      "source": [
        "from sklearn.metrics import mean_squared_error"
      ],
      "execution_count": 156,
      "outputs": []
    },
    {
      "cell_type": "code",
      "metadata": {
        "id": "K0HB6L-dQbgn"
      },
      "source": [
        "pred = []\r\n",
        "for i in range(len(data_train)):\r\n",
        "  pred.append(m*data_x[i] + c)\r\n"
      ],
      "execution_count": 157,
      "outputs": []
    },
    {
      "cell_type": "code",
      "metadata": {
        "id": "m31qj1ZzQiit"
      },
      "source": [
        "mse_train = mean_squared_error(data_y,pred)"
      ],
      "execution_count": 158,
      "outputs": []
    },
    {
      "cell_type": "markdown",
      "metadata": {
        "id": "MRUSvPgmQ23b"
      },
      "source": [
        "data_test"
      ]
    },
    {
      "cell_type": "code",
      "metadata": {
        "colab": {
          "base_uri": "https://localhost:8080/",
          "height": 415
        },
        "id": "rFrEGSO9Q4wz",
        "outputId": "7077bf04-60ad-4464-a816-68ab2d321eaf"
      },
      "source": [
        "data_test"
      ],
      "execution_count": 159,
      "outputs": [
        {
          "output_type": "execute_result",
          "data": {
            "text/html": [
              "<div>\n",
              "<style scoped>\n",
              "    .dataframe tbody tr th:only-of-type {\n",
              "        vertical-align: middle;\n",
              "    }\n",
              "\n",
              "    .dataframe tbody tr th {\n",
              "        vertical-align: top;\n",
              "    }\n",
              "\n",
              "    .dataframe thead th {\n",
              "        text-align: right;\n",
              "    }\n",
              "</style>\n",
              "<table border=\"1\" class=\"dataframe\">\n",
              "  <thead>\n",
              "    <tr style=\"text-align: right;\">\n",
              "      <th></th>\n",
              "      <th>0</th>\n",
              "      <th>1</th>\n",
              "    </tr>\n",
              "  </thead>\n",
              "  <tbody>\n",
              "    <tr>\n",
              "      <th>1871</th>\n",
              "      <td>0.497161</td>\n",
              "      <td>0.445636</td>\n",
              "    </tr>\n",
              "    <tr>\n",
              "      <th>1088</th>\n",
              "      <td>0.520955</td>\n",
              "      <td>0.391487</td>\n",
              "    </tr>\n",
              "    <tr>\n",
              "      <th>1822</th>\n",
              "      <td>0.531312</td>\n",
              "      <td>0.593136</td>\n",
              "    </tr>\n",
              "    <tr>\n",
              "      <th>1811</th>\n",
              "      <td>0.328635</td>\n",
              "      <td>0.378705</td>\n",
              "    </tr>\n",
              "    <tr>\n",
              "      <th>1973</th>\n",
              "      <td>0.449003</td>\n",
              "      <td>0.340361</td>\n",
              "    </tr>\n",
              "    <tr>\n",
              "      <th>...</th>\n",
              "      <td>...</td>\n",
              "      <td>...</td>\n",
              "    </tr>\n",
              "    <tr>\n",
              "      <th>159</th>\n",
              "      <td>0.493310</td>\n",
              "      <td>0.800491</td>\n",
              "    </tr>\n",
              "    <tr>\n",
              "      <th>23</th>\n",
              "      <td>0.284300</td>\n",
              "      <td>0.381159</td>\n",
              "    </tr>\n",
              "    <tr>\n",
              "      <th>139</th>\n",
              "      <td>0.600782</td>\n",
              "      <td>0.794157</td>\n",
              "    </tr>\n",
              "    <tr>\n",
              "      <th>312</th>\n",
              "      <td>0.477818</td>\n",
              "      <td>0.503324</td>\n",
              "    </tr>\n",
              "    <tr>\n",
              "      <th>2018</th>\n",
              "      <td>0.218938</td>\n",
              "      <td>0.241306</td>\n",
              "    </tr>\n",
              "  </tbody>\n",
              "</table>\n",
              "<p>216 rows × 2 columns</p>\n",
              "</div>"
            ],
            "text/plain": [
              "             0         1\n",
              "1871  0.497161  0.445636\n",
              "1088  0.520955  0.391487\n",
              "1822  0.531312  0.593136\n",
              "1811  0.328635  0.378705\n",
              "1973  0.449003  0.340361\n",
              "...        ...       ...\n",
              "159   0.493310  0.800491\n",
              "23    0.284300  0.381159\n",
              "139   0.600782  0.794157\n",
              "312   0.477818  0.503324\n",
              "2018  0.218938  0.241306\n",
              "\n",
              "[216 rows x 2 columns]"
            ]
          },
          "metadata": {
            "tags": []
          },
          "execution_count": 159
        }
      ]
    },
    {
      "cell_type": "code",
      "metadata": {
        "id": "mMtedKX9QnTE"
      },
      "source": [
        "pred_test = m*data_test[0] + c\r\n",
        "mse_test = mean_squared_error(data_test[1],pred_test)\r\n"
      ],
      "execution_count": 160,
      "outputs": []
    },
    {
      "cell_type": "markdown",
      "metadata": {
        "id": "oAD9nirEXai0"
      },
      "source": [
        "### MEAN SQUARED ERRORS"
      ]
    },
    {
      "cell_type": "code",
      "metadata": {
        "colab": {
          "base_uri": "https://localhost:8080/"
        },
        "id": "iepn_Z-fQpBr",
        "outputId": "7b01e68c-0dfa-4378-e655-fc23ea78bb3e"
      },
      "source": [
        "print(\"training data mean squared error:\",mse_train)\r\n",
        "print(\"Testing data mean squared error:\",mse_test)"
      ],
      "execution_count": 161,
      "outputs": [
        {
          "output_type": "stream",
          "text": [
            "training data mean squared error: 0.01872753864482425\n",
            "Testing data mean squared error: 0.0170108464300715\n"
          ],
          "name": "stdout"
        }
      ]
    },
    {
      "cell_type": "code",
      "metadata": {
        "colab": {
          "base_uri": "https://localhost:8080/"
        },
        "id": "OP2qYVV_RLEo",
        "outputId": "30f8dd06-0941-42e6-dc49-50f459eb50ec"
      },
      "source": [
        "print(\"model parameter:\",m,c)"
      ],
      "execution_count": 162,
      "outputs": [
        {
          "output_type": "stream",
          "text": [
            "model parameter: 0.9126061472519963 0.023979287387560628\n"
          ],
          "name": "stdout"
        }
      ]
    },
    {
      "cell_type": "markdown",
      "metadata": {
        "id": "-YL7rzGaXdlG"
      },
      "source": [
        "## VISUALISING TRAINING DATA"
      ]
    },
    {
      "cell_type": "code",
      "metadata": {
        "colab": {
          "base_uri": "https://localhost:8080/",
          "height": 313
        },
        "id": "X5D0sTzSRfzZ",
        "outputId": "34de9b96-526d-4996-8993-02a8bedbd8b8"
      },
      "source": [
        "plt.scatter(data_train[0],data_train[1],label=\"original data points\")\r\n",
        "plt.plot(data_train[0],pred,color='red',label=\"predicted line\")\r\n",
        "plt.title(\"visualing regression line of training data\")\r\n",
        "plt.xlabel(\"yesterdays load\")\r\n",
        "plt.ylabel(\"predicted todays load\")\r\n",
        "plt.grid()\r\n",
        "plt.legend()"
      ],
      "execution_count": 163,
      "outputs": [
        {
          "output_type": "execute_result",
          "data": {
            "text/plain": [
              "<matplotlib.legend.Legend at 0x7fbbf5e44c50>"
            ]
          },
          "metadata": {
            "tags": []
          },
          "execution_count": 163
        },
        {
          "output_type": "display_data",
          "data": {
            "image/png": "[encoded data removed]",
            "text/plain": [
              "<Figure size 432x288 with 1 Axes>"
            ]
          },
          "metadata": {
            "tags": [],
            "needs_background": "light"
          }
        }
      ]
    },
    {
      "cell_type": "markdown",
      "metadata": {
        "id": "mnuZk_5MXhlj"
      },
      "source": [
        "### VISUALISING TESTING DATA"
      ]
    },
    {
      "cell_type": "code",
      "metadata": {
        "colab": {
          "base_uri": "https://localhost:8080/",
          "height": 313
        },
        "id": "-gQsZfi-WgAA",
        "outputId": "4a4d0be7-7031-463a-cb6a-e9eb478095a6"
      },
      "source": [
        "plt.scatter(data_test[0],data_test[1],label=\"original data points\")\r\n",
        "plt.plot(data_test[0],pred_test,color='red',label=\"predicted line\")\r\n",
        "plt.title(\"visualing regression line of testing data\")\r\n",
        "plt.xlabel(\"yesterdays load\")\r\n",
        "plt.ylabel(\"predicted todays load\")\r\n",
        "plt.grid()\r\n",
        "plt.legend()"
      ],
      "execution_count": 164,
      "outputs": [
        {
          "output_type": "execute_result",
          "data": {
            "text/plain": [
              "<matplotlib.legend.Legend at 0x7fbbf5edfdd0>"
            ]
          },
          "metadata": {
            "tags": []
          },
          "execution_count": 164
        },
        {
          "output_type": "display_data",
          "data": {
            "image/png": "[encoded data removed]",
            "text/plain": [
              "<Figure size 432x288 with 1 Axes>"
            ]
          },
          "metadata": {
            "tags": [],
            "needs_background": "light"
          }
        }
      ]
    },
    {
      "cell_type": "markdown",
      "metadata": {
        "id": "-uQVC4ZqXlPq"
      },
      "source": [
        "## DEPLOYMENT OF MODEL"
      ]
    },
    {
      "cell_type": "code",
      "metadata": {
        "colab": {
          "base_uri": "https://localhost:8080/"
        },
        "id": "IxnIFUF_SNGK",
        "outputId": "27887832-adfd-4983-c95b-32ce5aec6f84"
      },
      "source": [
        "\r\n",
        "input_load = float(input(\"enter yesterday load at this time : \"))\r\n",
        "input_load = (input_load - min_x)/(max_x-min_x)\r\n",
        "output_load = input_load*m+c\r\n",
        "\r\n",
        "output_load = output_load*(max_y-min_y)+min_y\r\n",
        "\r\n",
        "print(\"predicted load for this hour is : \",output_load)"
      ],
      "execution_count": 165,
      "outputs": [
        {
          "output_type": "stream",
          "text": [
            "enter yesterday load at this time : 5070.5\n",
            "predicted load for this hour is :  5053.595706344513\n"
          ],
          "name": "stdout"
        }
      ]
    }
  ]
}