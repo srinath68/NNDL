{
  "nbformat": 4,
  "nbformat_minor": 0,
  "metadata": {
    "colab": {
      "name": "Assignment 8",
      "provenance": [],
      "authorship_tag": "ABX9TyPEvGwtkNxuaB3sFHCoZqIW",
      "include_colab_link": true
    },
    "kernelspec": {
      "name": "python3",
      "display_name": "Python 3"
    },
    "language_info": {
      "name": "python"
    }
  },
  "cells": [
    {
      "cell_type": "markdown",
      "metadata": {
        "id": "view-in-github",
        "colab_type": "text"
      },
      "source": [
        "<a href=\"https://colab.research.google.com/github/srinath68/NNDL/blob/main/Assignment_8.ipynb\" target=\"_parent\"><img src=\"https://colab.research.google.com/assets/colab-badge.svg\" alt=\"Open In Colab\"/></a>"
      ]
    },
    {
      "cell_type": "markdown",
      "metadata": {
        "id": "0kRtB3UU3c_3"
      },
      "source": [
        "# **BATCH GRADIENT DESCENT (ON REAL TIME DATA)**\n"
      ]
    },
    {
      "cell_type": "code",
      "metadata": {
        "id": "4eh22qKZ3oa0"
      },
      "source": [
        "# importing all necessary packages\n",
        "import numpy as np\n",
        "import pandas as pd\n",
        "import matplotlib.pyplot as plt\n",
        "import seaborn as sns\n",
        "from sklearn.preprocessing import minmax_scale"
      ],
      "execution_count": 1,
      "outputs": []
    },
    {
      "cell_type": "code",
      "metadata": {
        "colab": {
          "base_uri": "https://localhost:8080/",
          "height": 202
        },
        "id": "9OZD3IE73g3o",
        "outputId": "8a737633-e400-498a-ac9a-16177d86ea0f"
      },
      "source": [
        "# READING THE  DATA SET\n",
        "data = pd.read_csv(\"water.csv\")\n",
        "data.head()"
      ],
      "execution_count": 3,
      "outputs": [
        {
          "output_type": "execute_result",
          "data": {
            "text/html": [
              "<div>\n",
              "<style scoped>\n",
              "    .dataframe tbody tr th:only-of-type {\n",
              "        vertical-align: middle;\n",
              "    }\n",
              "\n",
              "    .dataframe tbody tr th {\n",
              "        vertical-align: top;\n",
              "    }\n",
              "\n",
              "    .dataframe thead th {\n",
              "        text-align: right;\n",
              "    }\n",
              "</style>\n",
              "<table border=\"1\" class=\"dataframe\">\n",
              "  <thead>\n",
              "    <tr style=\"text-align: right;\">\n",
              "      <th></th>\n",
              "      <th>X</th>\n",
              "      <th>Y</th>\n",
              "    </tr>\n",
              "  </thead>\n",
              "  <tbody>\n",
              "    <tr>\n",
              "      <th>0</th>\n",
              "      <td>75.1</td>\n",
              "      <td>577.8</td>\n",
              "    </tr>\n",
              "    <tr>\n",
              "      <th>1</th>\n",
              "      <td>74.3</td>\n",
              "      <td>577.0</td>\n",
              "    </tr>\n",
              "    <tr>\n",
              "      <th>2</th>\n",
              "      <td>88.7</td>\n",
              "      <td>570.9</td>\n",
              "    </tr>\n",
              "    <tr>\n",
              "      <th>3</th>\n",
              "      <td>114.6</td>\n",
              "      <td>578.6</td>\n",
              "    </tr>\n",
              "    <tr>\n",
              "      <th>4</th>\n",
              "      <td>98.5</td>\n",
              "      <td>572.4</td>\n",
              "    </tr>\n",
              "  </tbody>\n",
              "</table>\n",
              "</div>"
            ],
            "text/plain": [
              "       X      Y\n",
              "0   75.1  577.8\n",
              "1   74.3  577.0\n",
              "2   88.7  570.9\n",
              "3  114.6  578.6\n",
              "4   98.5  572.4"
            ]
          },
          "metadata": {
            "tags": []
          },
          "execution_count": 3
        }
      ]
    },
    {
      "cell_type": "markdown",
      "metadata": {
        "id": "UkFeDR8k4QPg"
      },
      "source": [
        "# **DATA ANALYSIS AND VISUALISATION**"
      ]
    },
    {
      "cell_type": "code",
      "metadata": {
        "colab": {
          "base_uri": "https://localhost:8080/"
        },
        "id": "f2uDwVqt4VIq",
        "outputId": "ef47fd9b-2e7f-4795-bff9-711ab2b2f7c0"
      },
      "source": [
        "data.info()"
      ],
      "execution_count": 4,
      "outputs": [
        {
          "output_type": "stream",
          "text": [
            "<class 'pandas.core.frame.DataFrame'>\n",
            "RangeIndex: 30 entries, 0 to 29\n",
            "Data columns (total 2 columns):\n",
            " #   Column  Non-Null Count  Dtype  \n",
            "---  ------  --------------  -----  \n",
            " 0   X       30 non-null     float64\n",
            " 1   Y       30 non-null     float64\n",
            "dtypes: float64(2)\n",
            "memory usage: 608.0 bytes\n"
          ],
          "name": "stdout"
        }
      ]
    },
    {
      "cell_type": "code",
      "metadata": {
        "colab": {
          "base_uri": "https://localhost:8080/",
          "height": 294
        },
        "id": "68wEVCyJ4Z6H",
        "outputId": "78b0dea8-f2c2-498e-cd0b-f53a835436ba"
      },
      "source": [
        "data.describe()"
      ],
      "execution_count": 5,
      "outputs": [
        {
          "output_type": "execute_result",
          "data": {
            "text/html": [
              "<div>\n",
              "<style scoped>\n",
              "    .dataframe tbody tr th:only-of-type {\n",
              "        vertical-align: middle;\n",
              "    }\n",
              "\n",
              "    .dataframe tbody tr th {\n",
              "        vertical-align: top;\n",
              "    }\n",
              "\n",
              "    .dataframe thead th {\n",
              "        text-align: right;\n",
              "    }\n",
              "</style>\n",
              "<table border=\"1\" class=\"dataframe\">\n",
              "  <thead>\n",
              "    <tr style=\"text-align: right;\">\n",
              "      <th></th>\n",
              "      <th>X</th>\n",
              "      <th>Y</th>\n",
              "    </tr>\n",
              "  </thead>\n",
              "  <tbody>\n",
              "    <tr>\n",
              "      <th>count</th>\n",
              "      <td>30.000000</td>\n",
              "      <td>30.000000</td>\n",
              "    </tr>\n",
              "    <tr>\n",
              "      <th>mean</th>\n",
              "      <td>90.273333</td>\n",
              "      <td>514.963333</td>\n",
              "    </tr>\n",
              "    <tr>\n",
              "      <th>std</th>\n",
              "      <td>16.986078</td>\n",
              "      <td>39.535096</td>\n",
              "    </tr>\n",
              "    <tr>\n",
              "      <th>min</th>\n",
              "      <td>62.200000</td>\n",
              "      <td>406.700000</td>\n",
              "    </tr>\n",
              "    <tr>\n",
              "      <th>25%</th>\n",
              "      <td>75.300000</td>\n",
              "      <td>505.250000</td>\n",
              "    </tr>\n",
              "    <tr>\n",
              "      <th>50%</th>\n",
              "      <td>89.150000</td>\n",
              "      <td>510.100000</td>\n",
              "    </tr>\n",
              "    <tr>\n",
              "      <th>75%</th>\n",
              "      <td>104.375000</td>\n",
              "      <td>519.850000</td>\n",
              "    </tr>\n",
              "    <tr>\n",
              "      <th>max</th>\n",
              "      <td>120.000000</td>\n",
              "      <td>578.600000</td>\n",
              "    </tr>\n",
              "  </tbody>\n",
              "</table>\n",
              "</div>"
            ],
            "text/plain": [
              "                X           Y\n",
              "count   30.000000   30.000000\n",
              "mean    90.273333  514.963333\n",
              "std     16.986078   39.535096\n",
              "min     62.200000  406.700000\n",
              "25%     75.300000  505.250000\n",
              "50%     89.150000  510.100000\n",
              "75%    104.375000  519.850000\n",
              "max    120.000000  578.600000"
            ]
          },
          "metadata": {
            "tags": []
          },
          "execution_count": 5
        }
      ]
    },
    {
      "cell_type": "markdown",
      "metadata": {
        "id": "DJQ9eOpD4fUF"
      },
      "source": [
        "# **NULL value Treatment**"
      ]
    },
    {
      "cell_type": "code",
      "metadata": {
        "colab": {
          "base_uri": "https://localhost:8080/"
        },
        "id": "6ecrP_7Z4hQm",
        "outputId": "b16d8ffd-9e1a-46fe-a2f0-bddb60dcc3b7"
      },
      "source": [
        "data.isnull().sum()"
      ],
      "execution_count": 6,
      "outputs": [
        {
          "output_type": "execute_result",
          "data": {
            "text/plain": [
              "X    0\n",
              "Y    0\n",
              "dtype: int64"
            ]
          },
          "metadata": {
            "tags": []
          },
          "execution_count": 6
        }
      ]
    },
    {
      "cell_type": "markdown",
      "metadata": {
        "id": "6yLGpPB14pke"
      },
      "source": [
        "Observation: the given dataset do not contain any null values"
      ]
    },
    {
      "cell_type": "markdown",
      "metadata": {
        "id": "Lg1-kr3o4wtq"
      },
      "source": [
        "# **Outliners Treatment**"
      ]
    },
    {
      "cell_type": "code",
      "metadata": {
        "colab": {
          "base_uri": "https://localhost:8080/",
          "height": 297
        },
        "id": "gpaqxhni4yrQ",
        "outputId": "55bf75ec-26d4-4447-ccf6-97474e260efe"
      },
      "source": [
        "sns.boxplot(x=data['X'])"
      ],
      "execution_count": 7,
      "outputs": [
        {
          "output_type": "execute_result",
          "data": {
            "text/plain": [
              "<matplotlib.axes._subplots.AxesSubplot at 0x7f0abbffe990>"
            ]
          },
          "metadata": {
            "tags": []
          },
          "execution_count": 7
        },
        {
          "output_type": "display_data",
          "data": {
            "image/png": "[encoded data removed]",
            "text/plain": [
              "<Figure size 432x288 with 1 Axes>"
            ]
          },
          "metadata": {
            "tags": [],
            "needs_background": "light"
          }
        }
      ]
    },
    {
      "cell_type": "code",
      "metadata": {
        "colab": {
          "base_uri": "https://localhost:8080/",
          "height": 297
        },
        "id": "fe7if7hL451A",
        "outputId": "c09f8263-4a17-414b-a573-e17c2727c17c"
      },
      "source": [
        "sns.boxplot(x=data['Y'])"
      ],
      "execution_count": 8,
      "outputs": [
        {
          "output_type": "execute_result",
          "data": {
            "text/plain": [
              "<matplotlib.axes._subplots.AxesSubplot at 0x7f0abbf43750>"
            ]
          },
          "metadata": {
            "tags": []
          },
          "execution_count": 8
        },
        {
          "output_type": "display_data",
          "data": {
            "image/png": "[encoded data removed]",
            "text/plain": [
              "<Figure size 432x288 with 1 Axes>"
            ]
          },
          "metadata": {
            "tags": [],
            "needs_background": "light"
          }
        }
      ]
    },
    {
      "cell_type": "markdown",
      "metadata": {
        "id": "UcONjDui4-q-"
      },
      "source": [
        "From above box plot, we can conclude that the dataset is holding few outliners. we need to remove them"
      ]
    },
    {
      "cell_type": "markdown",
      "metadata": {
        "id": "_g6V9WzW4_3z"
      },
      "source": [
        "1.Using Z score\n",
        "\n",
        "2.and Using ITQ"
      ]
    },
    {
      "cell_type": "code",
      "metadata": {
        "colab": {
          "base_uri": "https://localhost:8080/"
        },
        "id": "KvhSlD_65JGW",
        "outputId": "088dc1b0-858b-41c4-c10c-4c59e53f1a45"
      },
      "source": [
        "# Z-SCORE\n",
        "from scipy import stats\n",
        "import numpy as np\n",
        "z = np.abs(stats.zscore(data))\n",
        "print(z)"
      ],
      "execution_count": 9,
      "outputs": [
        {
          "output_type": "stream",
          "text": [
            "[[0.90855142 1.61656054]\n",
            " [0.95645395 1.59597943]\n",
            " [0.09420832 1.43904846]\n",
            " [1.45663625 1.63714165]\n",
            " [0.49259774 1.47763804]\n",
            " [1.30095302 2.6694559 ]\n",
            " [1.46861189 0.430574  ]\n",
            " [1.68097979 1.25896373]\n",
            " [1.00156217 2.78522465]\n",
            " [0.01357238 0.20229517]\n",
            " [0.98639304 0.47756754]\n",
            " [1.52849006 0.25117531]\n",
            " [0.54648809 0.22030365]\n",
            " [0.16326781 0.12254337]\n",
            " [0.98040522 0.28461962]\n",
            " [1.4714062  0.22544892]\n",
            " [1.44146712 0.22287629]\n",
            " [0.74089254 0.12254337]\n",
            " [1.16922104 0.16370559]\n",
            " [0.9057571  0.10453489]\n",
            " [0.10019614 0.24603004]\n",
            " [0.04031797 0.05565476]\n",
            " [0.98639304 0.31291865]\n",
            " [0.66025661 0.56503726]\n",
            " [1.77997837 0.10710753]\n",
            " [0.86064888 0.05565476]\n",
            " [0.84268543 0.04021892]\n",
            " [0.50137987 0.12768865]\n",
            " [0.35767226 0.27432906]\n",
            " [0.46265865 0.18102803]]\n"
          ],
          "name": "stdout"
        }
      ]
    },
    {
      "cell_type": "code",
      "metadata": {
        "colab": {
          "base_uri": "https://localhost:8080/"
        },
        "id": "FsHBf4eW5RO3",
        "outputId": "2774b3a2-fbc4-4f25-af15-35a2494abfa9"
      },
      "source": [
        "threshold = 3\n",
        "print(np.where(z > 3))"
      ],
      "execution_count": 10,
      "outputs": [
        {
          "output_type": "stream",
          "text": [
            "(array([], dtype=int64), array([], dtype=int64))\n"
          ],
          "name": "stdout"
        }
      ]
    },
    {
      "cell_type": "markdown",
      "metadata": {
        "id": "Jy_D2C2n5WWb"
      },
      "source": [
        "Observation:no outliners are found using Z-score test"
      ]
    },
    {
      "cell_type": "code",
      "metadata": {
        "colab": {
          "base_uri": "https://localhost:8080/",
          "height": 283
        },
        "id": "AaT3NVM65ZCD",
        "outputId": "848435c8-612d-4c6a-cb14-44b3b266c02b"
      },
      "source": [
        "# Visualising data points using a Scatter plot\n",
        "plt.scatter(data['X'],data['Y'])"
      ],
      "execution_count": 11,
      "outputs": [
        {
          "output_type": "execute_result",
          "data": {
            "text/plain": [
              "<matplotlib.collections.PathCollection at 0x7f0abba432d0>"
            ]
          },
          "metadata": {
            "tags": []
          },
          "execution_count": 11
        },
        {
          "output_type": "display_data",
          "data": {
            "image/png": "[encoded data removed]",
            "text/plain": [
              "<Figure size 432x288 with 1 Axes>"
            ]
          },
          "metadata": {
            "tags": [],
            "needs_background": "light"
          }
        }
      ]
    },
    {
      "cell_type": "code",
      "metadata": {
        "colab": {
          "base_uri": "https://localhost:8080/"
        },
        "id": "PELqjPYn5fgI",
        "outputId": "6891b823-9f72-4487-cf0f-3e68b004702d"
      },
      "source": [
        "# Implementing ITQ\n",
        "q1 = data.quantile(0.25)\n",
        "q3 = data.quantile(0.75)\n",
        "iqr = q3 - q1\n",
        "iqr"
      ],
      "execution_count": 12,
      "outputs": [
        {
          "output_type": "execute_result",
          "data": {
            "text/plain": [
              "X    29.075\n",
              "Y    14.600\n",
              "dtype: float64"
            ]
          },
          "metadata": {
            "tags": []
          },
          "execution_count": 12
        }
      ]
    },
    {
      "cell_type": "code",
      "metadata": {
        "colab": {
          "base_uri": "https://localhost:8080/"
        },
        "id": "evnGpQQj5jiM",
        "outputId": "ca269822-bb19-41f4-d5b1-81d936123bd0"
      },
      "source": [
        "data.shape"
      ],
      "execution_count": 13,
      "outputs": [
        {
          "output_type": "execute_result",
          "data": {
            "text/plain": [
              "(30, 2)"
            ]
          },
          "metadata": {
            "tags": []
          },
          "execution_count": 13
        }
      ]
    },
    {
      "cell_type": "code",
      "metadata": {
        "colab": {
          "base_uri": "https://localhost:8080/"
        },
        "id": "0rNCEj9C5oE2",
        "outputId": "5b74510d-63af-4ffe-e89b-5f3661a9d2c4"
      },
      "source": [
        "data_cleared = data[~((data < (q1 - 1.5 * iqr)) |(data > (q3 + 1.5 * iqr))).any(axis=1)]\n",
        "data_cleared.shape"
      ],
      "execution_count": 14,
      "outputs": [
        {
          "output_type": "execute_result",
          "data": {
            "text/plain": [
              "(22, 2)"
            ]
          },
          "metadata": {
            "tags": []
          },
          "execution_count": 14
        }
      ]
    },
    {
      "cell_type": "markdown",
      "metadata": {
        "id": "cCljuoU65vOS"
      },
      "source": [
        "**After implementing ITQ, 8 rows are treated as outliners and those are ignored from dataset**"
      ]
    },
    {
      "cell_type": "code",
      "metadata": {
        "colab": {
          "base_uri": "https://localhost:8080/",
          "height": 297
        },
        "id": "at8qXhpq53fW",
        "outputId": "e8867a1b-4bad-42e0-82d4-88d396047db7"
      },
      "source": [
        "sns.boxplot(x=data_cleared['X'])"
      ],
      "execution_count": 15,
      "outputs": [
        {
          "output_type": "execute_result",
          "data": {
            "text/plain": [
              "<matplotlib.axes._subplots.AxesSubplot at 0x7f0abaed0d10>"
            ]
          },
          "metadata": {
            "tags": []
          },
          "execution_count": 15
        },
        {
          "output_type": "display_data",
          "data": {
            "image/png": "[encoded data removed]",
            "text/plain": [
              "<Figure size 432x288 with 1 Axes>"
            ]
          },
          "metadata": {
            "tags": [],
            "needs_background": "light"
          }
        }
      ]
    },
    {
      "cell_type": "code",
      "metadata": {
        "colab": {
          "base_uri": "https://localhost:8080/",
          "height": 297
        },
        "id": "SGF3Euo15-qf",
        "outputId": "5401d245-de77-41b4-9076-ed13278d6776"
      },
      "source": [
        "# outliners are reduced\n",
        "sns.boxplot(x=data_cleared['Y'])"
      ],
      "execution_count": 16,
      "outputs": [
        {
          "output_type": "execute_result",
          "data": {
            "text/plain": [
              "<matplotlib.axes._subplots.AxesSubplot at 0x7f0abae3a3d0>"
            ]
          },
          "metadata": {
            "tags": []
          },
          "execution_count": 16
        },
        {
          "output_type": "display_data",
          "data": {
            "image/png": "[encoded data removed]",
            "text/plain": [
              "<Figure size 432x288 with 1 Axes>"
            ]
          },
          "metadata": {
            "tags": [],
            "needs_background": "light"
          }
        }
      ]
    },
    {
      "cell_type": "code",
      "metadata": {
        "colab": {
          "base_uri": "https://localhost:8080/",
          "height": 283
        },
        "id": "-kxzqelP5_B6",
        "outputId": "55842a3c-3624-470b-ad24-39cdeaac5ed7"
      },
      "source": [
        "# scatter plot of data before data clean\n",
        "plt.scatter(data['X'],data['Y'])"
      ],
      "execution_count": 17,
      "outputs": [
        {
          "output_type": "execute_result",
          "data": {
            "text/plain": [
              "<matplotlib.collections.PathCollection at 0x7f0abadc6c90>"
            ]
          },
          "metadata": {
            "tags": []
          },
          "execution_count": 17
        },
        {
          "output_type": "display_data",
          "data": {
            "image/png": "[encoded data removed]",
            "text/plain": [
              "<Figure size 432x288 with 1 Axes>"
            ]
          },
          "metadata": {
            "tags": [],
            "needs_background": "light"
          }
        }
      ]
    },
    {
      "cell_type": "code",
      "metadata": {
        "colab": {
          "base_uri": "https://localhost:8080/",
          "height": 283
        },
        "id": "jGOW8gLZ6HmY",
        "outputId": "9d540a58-9d4c-4c1f-8922-b2dbd6ddf946"
      },
      "source": [
        "#scatter plot of data after data clean\n",
        "plt.scatter(data_cleared['X'],data_cleared['Y'])"
      ],
      "execution_count": 18,
      "outputs": [
        {
          "output_type": "execute_result",
          "data": {
            "text/plain": [
              "<matplotlib.collections.PathCollection at 0x7f0abad3f890>"
            ]
          },
          "metadata": {
            "tags": []
          },
          "execution_count": 18
        },
        {
          "output_type": "display_data",
          "data": {
            "image/png": "[encoded data removed]",
            "text/plain": [
              "<Figure size 432x288 with 1 Axes>"
            ]
          },
          "metadata": {
            "tags": [],
            "needs_background": "light"
          }
        }
      ]
    },
    {
      "cell_type": "code",
      "metadata": {
        "id": "djJu7GbV6LbQ"
      },
      "source": [
        "data2 = data.copy()\n",
        "data = data_cleared.copy()"
      ],
      "execution_count": 19,
      "outputs": []
    },
    {
      "cell_type": "code",
      "metadata": {
        "id": "RxqSxklj6N1I"
      },
      "source": [
        "from sklearn.model_selection import train_test_split"
      ],
      "execution_count": 20,
      "outputs": []
    },
    {
      "cell_type": "markdown",
      "metadata": {
        "id": "GNoqD4dB6Vk6"
      },
      "source": [
        "\n",
        "# **Normalisation Of Data Set**"
      ]
    },
    {
      "cell_type": "code",
      "metadata": {
        "colab": {
          "base_uri": "https://localhost:8080/"
        },
        "id": "CRMKTD0w6apW",
        "outputId": "aefe40cb-5212-4316-f0c3-5cebc94a97c1"
      },
      "source": [
        "data_x = data['X']\n",
        "data_y = data['Y']\n",
        "\n",
        "# normalising the data\n",
        "data_x = (data_x - data_x.min())/(data_x.max() - data_x.min())\n",
        "data_y = (data_y - data_y.min())/(data_y.max() - data_y.min())\n",
        "data_x\n",
        "\n",
        "data_x = np.array(data_x)\n",
        "data_y = np.array(data_y)\n",
        "datas =[]\n",
        "for i in range(len(data_x)):\n",
        "  datas.append([data_x[i],data_y[i]])\n",
        "\n",
        "datas[1:10]"
      ],
      "execution_count": 21,
      "outputs": [
        {
          "output_type": "execute_result",
          "data": {
            "text/plain": [
              "[[0.45672191528545114, 0.364341085271318],\n",
              " [0.14917127071823194, 0.08785529715762205],\n",
              " [0.9226519337016574, 0.31524547803617503],\n",
              " [0.6206261510128914, 0.3462532299741592],\n",
              " [0.5027624309392265, 0.44444444444444364],\n",
              " [0.15101289134438312, 0.2816537467700249],\n",
              " [0.0, 0.3410852713178288],\n",
              " [0.009208103130755065, 0.34366925064599474],\n",
              " [0.22467771639042364, 0.44444444444444364]]"
            ]
          },
          "metadata": {
            "tags": []
          },
          "execution_count": 21
        }
      ]
    },
    {
      "cell_type": "code",
      "metadata": {
        "id": "f-Sm52qm6hIs"
      },
      "source": [
        "# splitting of data set into training and testing\n",
        "data_train,data_test = train_test_split(datas,test_size=0.1)"
      ],
      "execution_count": 22,
      "outputs": []
    },
    {
      "cell_type": "code",
      "metadata": {
        "colab": {
          "base_uri": "https://localhost:8080/"
        },
        "id": "7Hpw-yMW6nlO",
        "outputId": "4fed986e-a3f3-47c2-8a46-f9e73557d53c"
      },
      "source": [
        "data_train"
      ],
      "execution_count": 23,
      "outputs": [
        {
          "output_type": "execute_result",
          "data": {
            "text/plain": [
              "[[0.5948434622467771, 0.7493540051679578],\n",
              " [0.9226519337016574, 0.31524547803617503],\n",
              " [0.009208103130755065, 0.34366925064599474],\n",
              " [0.45672191528545114, 0.364341085271318],\n",
              " [0.9042357274401472, 1.0],\n",
              " [0.5027624309392265, 0.44444444444444364],\n",
              " [0.6556169429097605, 0.0],\n",
              " [0.3425414364640883, 0.2919896640826873],\n",
              " [0.4217311233885818, 0.3204134366925055],\n",
              " [0.15101289134438312, 0.2816537467700249],\n",
              " [0.0, 0.3410852713178288],\n",
              " [0.19337016574585636, 0.5271317829457353],\n",
              " [0.22467771639042364, 0.44444444444444364],\n",
              " [0.7311233885819522, 0.4625322997416009],\n",
              " [0.1878453038674034, 0.5116279069767424],\n",
              " [0.8121546961325966, 0.40310077519379856],\n",
              " [0.6206261510128914, 0.3462532299741592],\n",
              " [0.29834254143646416, 0.4392764857881132],\n",
              " [0.14917127071823194, 0.08785529715762205]]"
            ]
          },
          "metadata": {
            "tags": []
          },
          "execution_count": 23
        }
      ]
    },
    {
      "cell_type": "markdown",
      "metadata": {
        "id": "PttFKbxB6s08"
      },
      "source": [
        "# **Ready To Train The Model**"
      ]
    },
    {
      "cell_type": "code",
      "metadata": {
        "colab": {
          "base_uri": "https://localhost:8080/"
        },
        "id": "f_xQBlyd6u_F",
        "outputId": "ed1ae18f-963b-45da-e717-e851102b4089"
      },
      "source": [
        "#STEP 2: initialising required parameters\n",
        "m = 1\n",
        "c = -1\n",
        "iter = 1\n",
        "epochs = 300\n",
        "alpha = 0.1\n",
        "error = []\n",
        "data_train"
      ],
      "execution_count": 24,
      "outputs": [
        {
          "output_type": "execute_result",
          "data": {
            "text/plain": [
              "[[0.5948434622467771, 0.7493540051679578],\n",
              " [0.9226519337016574, 0.31524547803617503],\n",
              " [0.009208103130755065, 0.34366925064599474],\n",
              " [0.45672191528545114, 0.364341085271318],\n",
              " [0.9042357274401472, 1.0],\n",
              " [0.5027624309392265, 0.44444444444444364],\n",
              " [0.6556169429097605, 0.0],\n",
              " [0.3425414364640883, 0.2919896640826873],\n",
              " [0.4217311233885818, 0.3204134366925055],\n",
              " [0.15101289134438312, 0.2816537467700249],\n",
              " [0.0, 0.3410852713178288],\n",
              " [0.19337016574585636, 0.5271317829457353],\n",
              " [0.22467771639042364, 0.44444444444444364],\n",
              " [0.7311233885819522, 0.4625322997416009],\n",
              " [0.1878453038674034, 0.5116279069767424],\n",
              " [0.8121546961325966, 0.40310077519379856],\n",
              " [0.6206261510128914, 0.3462532299741592],\n",
              " [0.29834254143646416, 0.4392764857881132],\n",
              " [0.14917127071823194, 0.08785529715762205]]"
            ]
          },
          "metadata": {
            "tags": []
          },
          "execution_count": 24
        }
      ]
    },
    {
      "cell_type": "markdown",
      "metadata": {
        "id": "BQ3u3iVn63ec"
      },
      "source": [
        "# **Gradient Descent Algorithm**"
      ]
    },
    {
      "cell_type": "code",
      "metadata": {
        "id": "j2Abe-TL66Ud"
      },
      "source": [
        "\n",
        "# while loop is runned until iter reaches epochs\n",
        "while (iter<=epochs):\n",
        "  # running for loop to calculate and update model parameters for each sample\n",
        "  der_m = 0\n",
        "  der_c = 0\n",
        "  err = 0\n",
        "  for i in range(0,len(data_train)):\n",
        "    # calculating derivatives of m and c\n",
        "    der_m += ((data_train[i][1] - (m * data_train[i][0]) - c ))*(data_train[i][0])\n",
        "    der_c +=  (data_train[i][1] - (m * data_train[i][0]) - c )\n",
        "\n",
        "  # computing error rate with present m and c values \n",
        "  err = (der_c)**2\n",
        "  err = (err)/(2*len(data_train))\n",
        "  error.append(err)\n",
        "\n",
        "\n",
        "  der_m = (-1)*(1/len(data_train))*der_m\n",
        "  der_c = (-1)*(1/len(data_train))*der_c\n",
        "\n",
        "  # calculating change in m and c\n",
        "  change_m = (-1)*alpha*der_m\n",
        "  change_c = (-1)*alpha*der_c\n",
        "\n",
        "  #updating m and c\n",
        "  m = m + change_m\n",
        "  c = c + change_c\n",
        "\n",
        "\n",
        "  #incrementing no of iterations\n",
        "  iter = iter + 1"
      ],
      "execution_count": 25,
      "outputs": []
    },
    {
      "cell_type": "code",
      "metadata": {
        "colab": {
          "base_uri": "https://localhost:8080/"
        },
        "id": "nVuszXjd7DOc",
        "outputId": "f27fd13a-f61f-49ab-c938-44c9732a3409"
      },
      "source": [
        "# computed slope and y-intercept\n",
        "print(m,c)"
      ],
      "execution_count": 26,
      "outputs": [
        {
          "output_type": "stream",
          "text": [
            "0.36913225799375 0.24031266400218648\n"
          ],
          "name": "stdout"
        }
      ]
    },
    {
      "cell_type": "code",
      "metadata": {
        "colab": {
          "base_uri": "https://localhost:8080/"
        },
        "id": "Q-zSncbf7HTW",
        "outputId": "36ce345d-be39-4a20-c990-b9dabe8e2e91"
      },
      "source": [
        "data_test = np.array(data_test)\n",
        "data_test_x = data_test[:,0]\n",
        "print(data_test_x)\n",
        "data_test_y = data_test[:,1]\n",
        "data_test_y"
      ],
      "execution_count": 27,
      "outputs": [
        {
          "output_type": "stream",
          "text": [
            "[0.14917127 1.         0.44014733]\n"
          ],
          "name": "stdout"
        },
        {
          "output_type": "execute_result",
          "data": {
            "text/plain": [
              "array([0.25322997, 0.45994832, 0.51162791])"
            ]
          },
          "metadata": {
            "tags": []
          },
          "execution_count": 27
        }
      ]
    },
    {
      "cell_type": "code",
      "metadata": {
        "colab": {
          "base_uri": "https://localhost:8080/"
        },
        "id": "dy5VzZ7X7Luw",
        "outputId": "9fd04dee-bf4a-448a-8e8e-c1a470ef625b"
      },
      "source": [
        "# predicting results of test data set\n",
        "pred = []\n",
        "for i in range(len(data_test_x)):\n",
        "  print((m*data_test_x[i]) +c)\n",
        "  pred.append((m*data_test_x[i]) +c)"
      ],
      "execution_count": 28,
      "outputs": [
        {
          "output_type": "stream",
          "text": [
            "0.2953765919902044\n",
            "0.6094449219959365\n",
            "0.40278524164584434\n"
          ],
          "name": "stdout"
        }
      ]
    },
    {
      "cell_type": "markdown",
      "metadata": {
        "id": "l6X9tIKb7PbP"
      },
      "source": [
        "# **Mean Squared error of testing data**"
      ]
    },
    {
      "cell_type": "code",
      "metadata": {
        "colab": {
          "base_uri": "https://localhost:8080/"
        },
        "id": "e_AmFpmL7Rjq",
        "outputId": "df354161-2509-4a76-a99c-3ca83d4d5f02"
      },
      "source": [
        "# computig mean squared error of testing data\n",
        "mse = 0\n",
        "for i in range(0,len(data_test)):\n",
        "  mse += (data_test[i][1] - (m*data_test[i][0]) - c)**2\n",
        "mse = mse/len(data_test)\n",
        "mse"
      ],
      "execution_count": 29,
      "outputs": [
        {
          "output_type": "execute_result",
          "data": {
            "text/plain": [
              "0.011990765691852834"
            ]
          },
          "metadata": {
            "tags": []
          },
          "execution_count": 29
        }
      ]
    },
    {
      "cell_type": "markdown",
      "metadata": {
        "id": "ntHgqjRO7YPC"
      },
      "source": [
        "# **Predicted Data Visualisation**"
      ]
    },
    {
      "cell_type": "code",
      "metadata": {
        "colab": {
          "base_uri": "https://localhost:8080/",
          "height": 295
        },
        "id": "qLKZvOQf7brx",
        "outputId": "a0a3b64c-9842-4ec2-f27c-bbb96e71df58"
      },
      "source": [
        "plt.scatter(data_test_x,data_test_y,label=\"Original Data points\")\n",
        "plt.plot(data_test_x,pred,'r',label=\"predicted regression line\")\n",
        "plt.title(\"Linear Regression using Batch Gradient Descent\")\n",
        "plt.xlabel(\"Data x\")\n",
        "plt.ylabel(\"Data y\")\n",
        "plt.grid()\n",
        "plt.legend()\n",
        "plt.show()"
      ],
      "execution_count": 30,
      "outputs": [
        {
          "output_type": "display_data",
          "data": {
            "image/png": "[encoded data removed]",
            "text/plain": [
              "<Figure size 432x288 with 1 Axes>"
            ]
          },
          "metadata": {
            "tags": [],
            "needs_background": "light"
          }
        }
      ]
    },
    {
      "cell_type": "code",
      "metadata": {
        "colab": {
          "base_uri": "https://localhost:8080/"
        },
        "id": "IftQSFjV7kXp",
        "outputId": "6aedc80d-7c36-4996-d76b-8e2d498d6ae2"
      },
      "source": [
        "data_train = pd.DataFrame(data_train)\n",
        "\n",
        "data_train_pred = m*data_train[0] + c\n",
        "data_train_pred"
      ],
      "execution_count": 31,
      "outputs": [
        {
          "output_type": "execute_result",
          "data": {
            "text/plain": [
              "0     0.459889\n",
              "1     0.580893\n",
              "2     0.243712\n",
              "3     0.408903\n",
              "4     0.574095\n",
              "5     0.425898\n",
              "6     0.482322\n",
              "7     0.366756\n",
              "8     0.395987\n",
              "9     0.296056\n",
              "10    0.240313\n",
              "11    0.311692\n",
              "12    0.323248\n",
              "13    0.510194\n",
              "14    0.309652\n",
              "15    0.540105\n",
              "16    0.469406\n",
              "17    0.350441\n",
              "18    0.295377\n",
              "Name: 0, dtype: float64"
            ]
          },
          "metadata": {
            "tags": []
          },
          "execution_count": 31
        }
      ]
    },
    {
      "cell_type": "code",
      "metadata": {
        "colab": {
          "base_uri": "https://localhost:8080/",
          "height": 295
        },
        "id": "ugKne_KQ7oN8",
        "outputId": "118145e1-a472-40bb-b068-c136dae90496"
      },
      "source": [
        "plt.plot(data_train[0],data_train_pred,'red',label=\"Regression Line\")\n",
        "plt.scatter(data_train[0],data_train[1],label=\"original data points\")\n",
        "plt.xlabel(\"Pressure\")\n",
        "plt.ylabel(\"Weight of Liquid Nitrogen\")\n",
        "plt.legend()\n",
        "plt.grid()\n",
        "plt.title(\"Training Results Analysis\")\n",
        "plt.show()\n",
        "%matplotlib inline"
      ],
      "execution_count": 32,
      "outputs": [
        {
          "output_type": "display_data",
          "data": {
            "image/png": "[encoded data removed]",
            "text/plain": [
              "<Figure size 432x288 with 1 Axes>"
            ]
          },
          "metadata": {
            "tags": [],
            "needs_background": "light"
          }
        }
      ]
    },
    {
      "cell_type": "code",
      "metadata": {
        "colab": {
          "base_uri": "https://localhost:8080/",
          "height": 202
        },
        "id": "-xUKWaG17s-w",
        "outputId": "473ab9e0-eb5f-4546-cb85-c82818894d33"
      },
      "source": [
        "data_train.head()"
      ],
      "execution_count": 33,
      "outputs": [
        {
          "output_type": "execute_result",
          "data": {
            "text/html": [
              "<div>\n",
              "<style scoped>\n",
              "    .dataframe tbody tr th:only-of-type {\n",
              "        vertical-align: middle;\n",
              "    }\n",
              "\n",
              "    .dataframe tbody tr th {\n",
              "        vertical-align: top;\n",
              "    }\n",
              "\n",
              "    .dataframe thead th {\n",
              "        text-align: right;\n",
              "    }\n",
              "</style>\n",
              "<table border=\"1\" class=\"dataframe\">\n",
              "  <thead>\n",
              "    <tr style=\"text-align: right;\">\n",
              "      <th></th>\n",
              "      <th>0</th>\n",
              "      <th>1</th>\n",
              "    </tr>\n",
              "  </thead>\n",
              "  <tbody>\n",
              "    <tr>\n",
              "      <th>0</th>\n",
              "      <td>0.594843</td>\n",
              "      <td>0.749354</td>\n",
              "    </tr>\n",
              "    <tr>\n",
              "      <th>1</th>\n",
              "      <td>0.922652</td>\n",
              "      <td>0.315245</td>\n",
              "    </tr>\n",
              "    <tr>\n",
              "      <th>2</th>\n",
              "      <td>0.009208</td>\n",
              "      <td>0.343669</td>\n",
              "    </tr>\n",
              "    <tr>\n",
              "      <th>3</th>\n",
              "      <td>0.456722</td>\n",
              "      <td>0.364341</td>\n",
              "    </tr>\n",
              "    <tr>\n",
              "      <th>4</th>\n",
              "      <td>0.904236</td>\n",
              "      <td>1.000000</td>\n",
              "    </tr>\n",
              "  </tbody>\n",
              "</table>\n",
              "</div>"
            ],
            "text/plain": [
              "          0         1\n",
              "0  0.594843  0.749354\n",
              "1  0.922652  0.315245\n",
              "2  0.009208  0.343669\n",
              "3  0.456722  0.364341\n",
              "4  0.904236  1.000000"
            ]
          },
          "metadata": {
            "tags": []
          },
          "execution_count": 33
        }
      ]
    },
    {
      "cell_type": "markdown",
      "metadata": {
        "id": "d3zI0Sax7xY5"
      },
      "source": [
        "# **Error Rate Analysis**"
      ]
    },
    {
      "cell_type": "code",
      "metadata": {
        "colab": {
          "base_uri": "https://localhost:8080/",
          "height": 295
        },
        "id": "AjH8AbX-71Jz",
        "outputId": "6d595f68-9937-4bdc-edb3-b42832a1b8e2"
      },
      "source": [
        "iters = np.arange(epochs)\n",
        "plt.plot(iters,error,color='m',label=\"error rate at ith iteration\")\n",
        "plt.legend()\n",
        "plt.xlabel(\"Number of iteration\")\n",
        "plt.ylabel(\"Error Rate at particular Iteration\")\n",
        "plt.title(\"Error Analysis\")\n",
        "plt.grid()\n",
        "plt.show()"
      ],
      "execution_count": 34,
      "outputs": [
        {
          "output_type": "display_data",
          "data": {
            "image/png": "[encoded data removed]",
            "text/plain": [
              "<Figure size 432x288 with 1 Axes>"
            ]
          },
          "metadata": {
            "tags": [],
            "needs_background": "light"
          }
        }
      ]
    },
    {
      "cell_type": "markdown",
      "metadata": {
        "id": "7nBE3K6R77I-"
      },
      "source": [
        "# **Mean Squared Error Of Training Data**"
      ]
    },
    {
      "cell_type": "code",
      "metadata": {
        "colab": {
          "base_uri": "https://localhost:8080/"
        },
        "id": "4iNXfXb279P2",
        "outputId": "97b3e53d-e913-46f0-8712-f176bec8a3a5"
      },
      "source": [
        "# computig mean squared error\n",
        "mse = 0\n",
        "mse = (data_train[1] - m*data_train[0] - c)**2\n",
        "mse.sum()/len(data_train)"
      ],
      "execution_count": 35,
      "outputs": [
        {
          "output_type": "execute_result",
          "data": {
            "text/plain": [
              "0.04165451638573208"
            ]
          },
          "metadata": {
            "tags": []
          },
          "execution_count": 35
        }
      ]
    },
    {
      "cell_type": "code",
      "metadata": {
        "colab": {
          "base_uri": "https://localhost:8080/"
        },
        "id": "FtP92mg--wf7",
        "outputId": "2d403e0f-4ab0-40df-d357-5bca4f631d4e"
      },
      "source": [
        "min_x = data2['X'].min()\n",
        "max_x = data2['X'].max()\n",
        "min_y = data2['Y'].min()\n",
        "max_y = data2['Y'].max()\n",
        "print(min_x,min_y,max_x,max_y)"
      ],
      "execution_count": 36,
      "outputs": [
        {
          "output_type": "stream",
          "text": [
            "62.2 406.7 120.0 578.6\n"
          ],
          "name": "stdout"
        }
      ]
    },
    {
      "cell_type": "markdown",
      "metadata": {
        "id": "WZeZGvio-1Qu"
      },
      "source": [
        "# **Model Ready To Take Input and Produce Output**"
      ]
    },
    {
      "cell_type": "code",
      "metadata": {
        "colab": {
          "base_uri": "https://localhost:8080/"
        },
        "id": "8yE0c2GL-3vB",
        "outputId": "34f1c90f-7b19-4e97-e6a7-321bc145b23e"
      },
      "source": [
        "input_x = float(input(\"enter pressure\"))\n",
        "input_x = (input_x - min_x)/(max_x - min_x)\n",
        "output_y = m*input_x + c\n",
        "output_y = (output_y)*(max_y - min_y) + min_y\n",
        "output_y"
      ],
      "execution_count": 37,
      "outputs": [
        {
          "output_type": "stream",
          "text": [
            "enter pressure78.6\n"
          ],
          "name": "stdout"
        },
        {
          "output_type": "execute_result",
          "data": {
            "text/plain": [
              "466.0139493026274"
            ]
          },
          "metadata": {
            "tags": []
          },
          "execution_count": 37
        }
      ]
    },
    {
      "cell_type": "code",
      "metadata": {
        "colab": {
          "base_uri": "https://localhost:8080/"
        },
        "id": "QV95wDnx_CpL",
        "outputId": "d0190d48-cbbd-4007-955e-74949625bdac"
      },
      "source": [
        "err = 0\n",
        "for i in range(0,len(data_x)):\n",
        "  input_x = data2['X'][i]\n",
        "  input_x = (input_x - min_x)/(max_x - min_x)\n",
        "  output_y = m*input_x + c\n",
        "  output_y = (output_y)*(max_y - min_y) + min_y\n",
        "  err += (output_y-data2['Y'][i])**2\n",
        "  print(output_y,data2['Y'][i])\n",
        "\n",
        "print(\"\\n\",err)\n",
        "print(err/len(data_x))"
      ],
      "execution_count": 38,
      "outputs": [
        {
          "output_type": "stream",
          "text": [
            "462.17158904273225 577.8\n",
            "461.29333526904196 577.0\n",
            "477.1019031954677 570.9\n",
            "505.53536911869185 578.6\n",
            "487.86051192317416 572.4\n",
            "502.68104435419826 411.2\n",
            "505.7549325621144 531.7\n",
            "448.00974694197583 563.9\n",
            "497.1919582686338 406.7\n",
            "479.0779741862709 507.1\n",
            "460.7444266604855 496.4\n",
            "506.85274977922734 505.2\n",
            "488.8485474185758 506.4\n",
            "481.8225172290532 510.2\n",
            "460.8542083821968 503.9\n",
            "451.85210720187104 506.2\n",
            "452.40101581042745 506.3\n",
            "465.2454772506484 510.2\n",
            "500.2658464765499 508.6\n",
            "495.4354507212532 510.9\n",
            "476.9921214737564 505.4\n",
            "478.0899386908693 512.8\n",
            "\n",
            " 93928.3532400909\n",
            "4269.470601822314\n"
          ],
          "name": "stdout"
        }
      ]
    },
    {
      "cell_type": "code",
      "metadata": {
        "id": "O9SZoWFk_ExI"
      },
      "source": [
        ""
      ],
      "execution_count": null,
      "outputs": []
    }
  ]
}