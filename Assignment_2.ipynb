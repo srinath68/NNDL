{
  "nbformat": 4,
  "nbformat_minor": 0,
  "metadata": {
    "colab": {
      "name": "Assignment 2",
      "provenance": [],
      "authorship_tag": "ABX9TyMiEXnj1RQO07ZqMG3o+v+P",
      "include_colab_link": true
    },
    "kernelspec": {
      "name": "python3",
      "display_name": "Python 3"
    },
    "language_info": {
      "name": "python"
    }
  },
  "cells": [
    {
      "cell_type": "markdown",
      "metadata": {
        "id": "view-in-github",
        "colab_type": "text"
      },
      "source": [
        "<a href=\"https://colab.research.google.com/github/srinath68/NNDL/blob/main/Assignment_2.ipynb\" target=\"_parent\"><img src=\"https://colab.research.google.com/assets/colab-badge.svg\" alt=\"Open In Colab\"/></a>"
      ]
    },
    {
      "cell_type": "code",
      "metadata": {
        "id": "wzR3MveCj-Ab"
      },
      "source": [
        "#Initializing Variables\n",
        "#Let us Consider f(x,y)=x**2+y**2+10\n",
        "x=-1\n",
        "y=2\n",
        "epochs=1000\n",
        "n=0.01"
      ],
      "execution_count": 1,
      "outputs": []
    },
    {
      "cell_type": "code",
      "metadata": {
        "id": "mQchnepekOT9"
      },
      "source": [
        "#derivative w.r.t x\n",
        "def der_x(x):\n",
        "  val=2*x\n",
        "  return val"
      ],
      "execution_count": 2,
      "outputs": []
    },
    {
      "cell_type": "code",
      "metadata": {
        "id": "Hi9hzAnykTJ5"
      },
      "source": [
        "#derivative w.r.t y\n",
        "def der_y(y):\n",
        "  val=2*y\n",
        "  return val"
      ],
      "execution_count": 3,
      "outputs": []
    },
    {
      "cell_type": "code",
      "metadata": {
        "id": "JWD91oj3kbQa"
      },
      "source": [
        "iter=1"
      ],
      "execution_count": 4,
      "outputs": []
    },
    {
      "cell_type": "code",
      "metadata": {
        "id": "t46pw2yEkcOz"
      },
      "source": [
        "while (iter<=epochs):\n",
        "  df_x=der_x(x)\n",
        "  df_y=der_y(y)\n",
        " \n",
        "  x1=(-1)*n*df_x\n",
        "  y1=(-1)*n*df_y\n",
        " \n",
        "  x=x+x1\n",
        "  y=y+y1\n",
        " \n",
        "  iter=iter+1"
      ],
      "execution_count": 5,
      "outputs": []
    },
    {
      "cell_type": "code",
      "metadata": {
        "colab": {
          "base_uri": "https://localhost:8080/"
        },
        "id": "Lbc5A7h0kiUS",
        "outputId": "88120633-71b7-41bd-8517-4df5a2f4b707"
      },
      "source": [
        "print(str(x)+\"\\n\"+str(y))"
      ],
      "execution_count": 6,
      "outputs": [
        {
          "output_type": "stream",
          "text": [
            "-1.6829673572159529e-09\n",
            "3.3659347144319058e-09\n"
          ],
          "name": "stdout"
        }
      ]
    },
    {
      "cell_type": "code",
      "metadata": {
        "id": "zT85-xdPkoL2"
      },
      "source": [
        "def f(x,y):\n",
        "  val=(x**2+y**2+10)\n",
        "  return val"
      ],
      "execution_count": 7,
      "outputs": []
    },
    {
      "cell_type": "code",
      "metadata": {
        "colab": {
          "base_uri": "https://localhost:8080/"
        },
        "id": "BHguGAUVkxlh",
        "outputId": "557b5e99-f06e-486d-ef6a-6d5f3e50c736"
      },
      "source": [
        "print(\"Global Minimum Value of f(x,y)=\"+str(f(x,y))+\" at (x,y)=(\"+str(x)+\",\"+str(y)+\")\")"
      ],
      "execution_count": 8,
      "outputs": [
        {
          "output_type": "stream",
          "text": [
            "Global Minimum Value of f(x,y)=10.0 at (x,y)=(-1.6829673572159529e-09,3.3659347144319058e-09)\n"
          ],
          "name": "stdout"
        }
      ]
    }
  ]
}