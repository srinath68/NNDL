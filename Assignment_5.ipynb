{
  "nbformat": 4,
  "nbformat_minor": 0,
  "metadata": {
    "colab": {
      "name": "Assignment 5",
      "provenance": [],
      "authorship_tag": "ABX9TyN8ajtXrkzYm9YEg4GU11X0",
      "include_colab_link": true
    },
    "kernelspec": {
      "name": "python3",
      "display_name": "Python 3"
    },
    "language_info": {
      "name": "python"
    }
  },
  "cells": [
    {
      "cell_type": "markdown",
      "metadata": {
        "id": "view-in-github",
        "colab_type": "text"
      },
      "source": [
        "<a href=\"https://colab.research.google.com/github/srinath68/NNDL/blob/main/Assignment_5.ipynb\" target=\"_parent\"><img src=\"https://colab.research.google.com/assets/colab-badge.svg\" alt=\"Open In Colab\"/></a>"
      ]
    },
    {
      "cell_type": "code",
      "metadata": {
        "colab": {
          "base_uri": "https://localhost:8080/"
        },
        "id": "XAJg8JbKcMOu",
        "outputId": "5d48538a-bcbd-4ba3-d34c-79195d045422"
      },
      "source": [
        " import numpy as np\n",
        "import pandas as pd\n",
        "import matplotlib.pyplot as plt\n",
        "import random\n",
        " \n",
        "data=np.array([[0.2,3.4],[0.4,3.8],[0.6,4.2],[0.8,4.6]])\n",
        "data"
      ],
      "execution_count": 1,
      "outputs": [
        {
          "output_type": "execute_result",
          "data": {
            "text/plain": [
              "array([[0.2, 3.4],\n",
              "       [0.4, 3.8],\n",
              "       [0.6, 4.2],\n",
              "       [0.8, 4.6]])"
            ]
          },
          "metadata": {
            "tags": []
          },
          "execution_count": 1
        }
      ]
    },
    {
      "cell_type": "code",
      "metadata": {
        "id": "w9gcIlkEcTkV"
      },
      "source": [
        "x=[]\n",
        "y=[]\n",
        "for i in range(0,len(data)):\n",
        "  x.append(data[i][0])\n",
        "for i in range(0,len(data)):\n",
        "  y.append(data[i][1])\n",
        "x=np.array(x)\n",
        "y=np.array(y)"
      ],
      "execution_count": 2,
      "outputs": []
    },
    {
      "cell_type": "code",
      "metadata": {
        "colab": {
          "base_uri": "https://localhost:8080/"
        },
        "id": "Y6KwR93dci2l",
        "outputId": "08a690b2-8b76-4515-c35d-5f5d1dfb3fea"
      },
      "source": [
        "bs=2\n",
        "nb=np.ceil(len(data)/bs)\n",
        "print(\"no of batches : \"+str(nb))"
      ],
      "execution_count": 3,
      "outputs": [
        {
          "output_type": "stream",
          "text": [
            "no of batches : 2.0\n"
          ],
          "name": "stdout"
        }
      ]
    },
    {
      "cell_type": "code",
      "metadata": {
        "colab": {
          "base_uri": "https://localhost:8080/"
        },
        "id": "0Ff57yMLcoRZ",
        "outputId": "8eeac071-1951-4121-a1e0-ba9e8ce11e99"
      },
      "source": [
        "# Shuffle Data\n",
        "samples=np.arange(len(data))\n",
        "random.shuffle(samples)\n",
        "samples"
      ],
      "execution_count": 4,
      "outputs": [
        {
          "output_type": "execute_result",
          "data": {
            "text/plain": [
              "array([2, 1, 3, 0])"
            ]
          },
          "metadata": {
            "tags": []
          },
          "execution_count": 4
        }
      ]
    },
    {
      "cell_type": "code",
      "metadata": {
        "colab": {
          "base_uri": "https://localhost:8080/"
        },
        "id": "E-kWJFXactRi",
        "outputId": "b533d246-c1f7-4644-9064-972da3567c3e"
      },
      "source": [
        "for i in samples:\n",
        "  print(x[i],y[i])"
      ],
      "execution_count": 5,
      "outputs": [
        {
          "output_type": "stream",
          "text": [
            "0.6 4.2\n",
            "0.4 3.8\n",
            "0.8 4.6\n",
            "0.2 3.4\n"
          ],
          "name": "stdout"
        }
      ]
    },
    {
      "cell_type": "code",
      "metadata": {
        "id": "46hcslhbcyKs"
      },
      "source": [
        "m=1\n",
        "c=-1\n",
        "n=0.1\n",
        "iter=1\n",
        "epochs=100"
      ],
      "execution_count": 6,
      "outputs": []
    },
    {
      "cell_type": "code",
      "metadata": {
        "colab": {
          "base_uri": "https://localhost:8080/"
        },
        "id": "VrJOkbQUc21G",
        "outputId": "0e16ec73-0f4e-48d5-d23d-b009238e8502"
      },
      "source": [
        "while (iter<=epochs):\n",
        "  batch = 1\n",
        "  while (batch<=nb):\n",
        "    der_m=0\n",
        "    der_c=0\n",
        "    error=0\n",
        "    for i in range(0,bs):\n",
        "      der_m = der_m + (y[samples[i]] - (m*x[samples[i]]) - c)*x[samples[i]]\n",
        "      der_c = der_c + (y[samples[i]] - (m*x[samples[i]]) - c)\n",
        "    der_m = (-1/bs)*der_m\n",
        "    der_c = (-1/bs)*der_c\n",
        " \n",
        "    m_change = (-1)*n*der_m\n",
        "    c_change = (-1)*n*der_c\n",
        " \n",
        "    m = m + m_change\n",
        "    c = c + c_change\n",
        " \n",
        "    batch = batch + 1\n",
        "  iter = iter + 1\n",
        "print('Optimal values of m,c are : \\n'+str(m),str(c))"
      ],
      "execution_count": 7,
      "outputs": [
        {
          "output_type": "stream",
          "text": [
            "Optimal values of m,c are : \n",
            "2.6905935331389976 2.651923095006889\n"
          ],
          "name": "stdout"
        }
      ]
    },
    {
      "cell_type": "code",
      "metadata": {
        "colab": {
          "base_uri": "https://localhost:8080/"
        },
        "id": "ob50lWDXc6uM",
        "outputId": "06f65dd0-6b94-4058-973c-5f128cc302a5"
      },
      "source": [
        "predict = []\n",
        "for i in range(0,len(data)):\n",
        "  predict.append(m*x[i]+c)\n",
        "predict"
      ],
      "execution_count": 8,
      "outputs": [
        {
          "output_type": "execute_result",
          "data": {
            "text/plain": [
              "[3.1900418016346888, 3.728160508262488, 4.266279214890288, 4.804397921518087]"
            ]
          },
          "metadata": {
            "tags": []
          },
          "execution_count": 8
        }
      ]
    },
    {
      "cell_type": "code",
      "metadata": {
        "colab": {
          "base_uri": "https://localhost:8080/"
        },
        "id": "4JU8IFTxdDVZ",
        "outputId": "703389d3-c15f-41f1-8ba5-4377b3f5a355"
      },
      "source": [
        "# MSE\n",
        " \n",
        "mse=0\n",
        "for i in range(0,len(data)):\n",
        "  mse = mse + (y[i]-(predict[i]))**2\n",
        "mse =(1/len(data))*mse\n",
        "mse"
      ],
      "execution_count": 9,
      "outputs": [
        {
          "output_type": "execute_result",
          "data": {
            "text/plain": [
              "0.023853700570324664"
            ]
          },
          "metadata": {
            "tags": []
          },
          "execution_count": 9
        }
      ]
    },
    {
      "cell_type": "code",
      "metadata": {
        "colab": {
          "base_uri": "https://localhost:8080/",
          "height": 265
        },
        "id": "qqwqGg6pdEqn",
        "outputId": "50a77b08-e712-4403-e045-5064c3f34bfb"
      },
      "source": [
        "plt.plot(x,y,'--',color='b',label='Original Data')\n",
        "plt.scatter(x,predict,color='r',label='Predicted Data')\n",
        "plt.xlabel('X-DATA')\n",
        "plt.ylabel('Y-DATA')\n",
        "plt.legend()\n",
        "plt.show()"
      ],
      "execution_count": 10,
      "outputs": [
        {
          "output_type": "display_data",
          "data": {
            "image/png": "[encoded data removed]",
            "text/plain": [
              "<Figure size 432x288 with 1 Axes>"
            ]
          },
          "metadata": {
            "tags": [],
            "needs_background": "light"
          }
        }
      ]
    }
  ]
}