{
 "cells": [
  {
   "cell_type": "markdown",
   "metadata": {
    "id": "2caVB0ccXv1F"
   },
   "source": [
    "## ***BATCH*** **GRADIENT** **DESCENT** (ON REAL TIME DATA)\n",
    "\n",
    "---\n",
    "\n",
    "\n",
    "\n",
    "\n"
   ]
  },
  {
   "cell_type": "code",
   "execution_count": 655,
   "metadata": {
    "id": "gKDFywAGBPsy"
   },
   "outputs": [],
   "source": [
    "# importing all necessary packages\n",
    "import numpy as np\n",
    "import pandas as pd\n",
    "import matplotlib.pyplot as plt\n",
    "import seaborn as sns\n",
    "from sklearn.preprocessing import minmax_scale"
   ]
  },
  {
   "cell_type": "code",
   "execution_count": 656,
   "metadata": {
    "colab": {
     "base_uri": "https://localhost:8080/",
     "height": 202
    },
    "id": "wlcHXsVrFpNa",
    "outputId": "aa7b7d0d-d5e9-4001-a5c9-c53c69f4f28a"
   },
   "outputs": [
    {
     "data": {
      "text/html": [
       "<div>\n",
       "<style scoped>\n",
       "    .dataframe tbody tr th:only-of-type {\n",
       "        vertical-align: middle;\n",
       "    }\n",
       "\n",
       "    .dataframe tbody tr th {\n",
       "        vertical-align: top;\n",
       "    }\n",
       "\n",
       "    .dataframe thead th {\n",
       "        text-align: right;\n",
       "    }\n",
       "</style>\n",
       "<table border=\"1\" class=\"dataframe\">\n",
       "  <thead>\n",
       "    <tr style=\"text-align: right;\">\n",
       "      <th></th>\n",
       "      <th>X</th>\n",
       "      <th>Y</th>\n",
       "    </tr>\n",
       "  </thead>\n",
       "  <tbody>\n",
       "    <tr>\n",
       "      <th>0</th>\n",
       "      <td>75.1</td>\n",
       "      <td>577.8</td>\n",
       "    </tr>\n",
       "    <tr>\n",
       "      <th>1</th>\n",
       "      <td>74.3</td>\n",
       "      <td>577.0</td>\n",
       "    </tr>\n",
       "    <tr>\n",
       "      <th>2</th>\n",
       "      <td>88.7</td>\n",
       "      <td>570.9</td>\n",
       "    </tr>\n",
       "    <tr>\n",
       "      <th>3</th>\n",
       "      <td>114.6</td>\n",
       "      <td>578.6</td>\n",
       "    </tr>\n",
       "    <tr>\n",
       "      <th>4</th>\n",
       "      <td>98.5</td>\n",
       "      <td>572.4</td>\n",
       "    </tr>\n",
       "  </tbody>\n",
       "</table>\n",
       "</div>"
      ],
      "text/plain": [
       "       X      Y\n",
       "0   75.1  577.8\n",
       "1   74.3  577.0\n",
       "2   88.7  570.9\n",
       "3  114.6  578.6\n",
       "4   98.5  572.4"
      ]
     },
     "execution_count": 656,
     "metadata": {
      "tags": []
     },
     "output_type": "execute_result"
    }
   ],
   "source": [
    "# READING THE  DATA SET\n",
    "data = pd.read_csv(\"water.csv\")\n",
    "data.head()"
   ]
  },
  {
   "cell_type": "markdown",
   "metadata": {
    "id": "ghTnzFtyX-Kw"
   },
   "source": [
    "## DATA ANALYSIS AND VISUALISATION\n",
    "\n",
    "---"
   ]
  },
  {
   "cell_type": "code",
   "execution_count": 657,
   "metadata": {
    "colab": {
     "base_uri": "https://localhost:8080/"
    },
    "id": "3m61mMMZF18K",
    "outputId": "7f3cd6e5-3c19-48f1-f681-d1a3cbf64e36"
   },
   "outputs": [
    {
     "name": "stdout",
     "output_type": "stream",
     "text": [
      "<class 'pandas.core.frame.DataFrame'>\n",
      "RangeIndex: 30 entries, 0 to 29\n",
      "Data columns (total 2 columns):\n",
      " #   Column  Non-Null Count  Dtype  \n",
      "---  ------  --------------  -----  \n",
      " 0   X       30 non-null     float64\n",
      " 1   Y       30 non-null     float64\n",
      "dtypes: float64(2)\n",
      "memory usage: 608.0 bytes\n"
     ]
    }
   ],
   "source": [
    "data.info()"
   ]
  },
  {
   "cell_type": "code",
   "execution_count": 658,
   "metadata": {
    "colab": {
     "base_uri": "https://localhost:8080/",
     "height": 294
    },
    "id": "5g-iXPmvF145",
    "outputId": "899e8666-4705-4d71-e284-06b55207faaf"
   },
   "outputs": [
    {
     "data": {
      "text/html": [
       "<div>\n",
       "<style scoped>\n",
       "    .dataframe tbody tr th:only-of-type {\n",
       "        vertical-align: middle;\n",
       "    }\n",
       "\n",
       "    .dataframe tbody tr th {\n",
       "        vertical-align: top;\n",
       "    }\n",
       "\n",
       "    .dataframe thead th {\n",
       "        text-align: right;\n",
       "    }\n",
       "</style>\n",
       "<table border=\"1\" class=\"dataframe\">\n",
       "  <thead>\n",
       "    <tr style=\"text-align: right;\">\n",
       "      <th></th>\n",
       "      <th>X</th>\n",
       "      <th>Y</th>\n",
       "    </tr>\n",
       "  </thead>\n",
       "  <tbody>\n",
       "    <tr>\n",
       "      <th>count</th>\n",
       "      <td>30.000000</td>\n",
       "      <td>30.000000</td>\n",
       "    </tr>\n",
       "    <tr>\n",
       "      <th>mean</th>\n",
       "      <td>90.273333</td>\n",
       "      <td>514.963333</td>\n",
       "    </tr>\n",
       "    <tr>\n",
       "      <th>std</th>\n",
       "      <td>16.986078</td>\n",
       "      <td>39.535096</td>\n",
       "    </tr>\n",
       "    <tr>\n",
       "      <th>min</th>\n",
       "      <td>62.200000</td>\n",
       "      <td>406.700000</td>\n",
       "    </tr>\n",
       "    <tr>\n",
       "      <th>25%</th>\n",
       "      <td>75.300000</td>\n",
       "      <td>505.250000</td>\n",
       "    </tr>\n",
       "    <tr>\n",
       "      <th>50%</th>\n",
       "      <td>89.150000</td>\n",
       "      <td>510.100000</td>\n",
       "    </tr>\n",
       "    <tr>\n",
       "      <th>75%</th>\n",
       "      <td>104.375000</td>\n",
       "      <td>519.850000</td>\n",
       "    </tr>\n",
       "    <tr>\n",
       "      <th>max</th>\n",
       "      <td>120.000000</td>\n",
       "      <td>578.600000</td>\n",
       "    </tr>\n",
       "  </tbody>\n",
       "</table>\n",
       "</div>"
      ],
      "text/plain": [
       "                X           Y\n",
       "count   30.000000   30.000000\n",
       "mean    90.273333  514.963333\n",
       "std     16.986078   39.535096\n",
       "min     62.200000  406.700000\n",
       "25%     75.300000  505.250000\n",
       "50%     89.150000  510.100000\n",
       "75%    104.375000  519.850000\n",
       "max    120.000000  578.600000"
      ]
     },
     "execution_count": 658,
     "metadata": {
      "tags": []
     },
     "output_type": "execute_result"
    }
   ],
   "source": [
    "data.describe()\n"
   ]
  },
  {
   "cell_type": "markdown",
   "metadata": {
    "id": "31AtqVLrYGYD"
   },
   "source": [
    "## NULL value Treatment"
   ]
  },
  {
   "cell_type": "code",
   "execution_count": 659,
   "metadata": {
    "colab": {
     "base_uri": "https://localhost:8080/"
    },
    "id": "OOZmKH_jYCiN",
    "outputId": "c7824323-436b-4bca-e077-29ff221afc59"
   },
   "outputs": [
    {
     "data": {
      "text/plain": [
       "X    0\n",
       "Y    0\n",
       "dtype: int64"
      ]
     },
     "execution_count": 659,
     "metadata": {
      "tags": []
     },
     "output_type": "execute_result"
    }
   ],
   "source": [
    "data.isnull().sum()"
   ]
  },
  {
   "cell_type": "markdown",
   "metadata": {
    "id": "EFqcVb6sYJ8B"
   },
   "source": [
    "**Observation:** the given dataset do not contain any null values"
   ]
  },
  {
   "cell_type": "markdown",
   "metadata": {
    "id": "O-mxe576YQap"
   },
   "source": [
    "## **Outliners** Treatment"
   ]
  },
  {
   "cell_type": "code",
   "execution_count": 660,
   "metadata": {
    "colab": {
     "base_uri": "https://localhost:8080/",
     "height": 297
    },
    "id": "e7DqryviF12I",
    "outputId": "882af45d-3b70-45bd-8b5b-3d7ec4c315ba"
   },
   "outputs": [
    {
     "data": {
      "text/plain": [
       "<matplotlib.axes._subplots.AxesSubplot at 0x7f3bcbf6da10>"
      ]
     },
     "execution_count": 660,
     "metadata": {
      "tags": []
     },
     "output_type": "execute_result"
    },
    {
     "data": {
      "image/png": "[encoded data removed]",
      "text/plain": [
       "<Figure size 432x288 with 1 Axes>"
      ]
     },
     "metadata": {
      "needs_background": "light",
      "tags": []
     },
     "output_type": "display_data"
    }
   ],
   "source": [
    "sns.boxplot(x=data['X'])\n"
   ]
  },
  {
   "cell_type": "code",
   "execution_count": 661,
   "metadata": {
    "colab": {
     "base_uri": "https://localhost:8080/",
     "height": 297
    },
    "id": "skZIcDgNm3xL",
    "outputId": "5c09c1c8-698f-4e20-e5d6-a8db00f8157c"
   },
   "outputs": [
    {
     "data": {
      "text/plain": [
       "<matplotlib.axes._subplots.AxesSubplot at 0x7f3bcbf75d90>"
      ]
     },
     "execution_count": 661,
     "metadata": {
      "tags": []
     },
     "output_type": "execute_result"
    },
    {
     "data": {
      "image/png": "[encoded data removed]",
      "text/plain": [
       "<Figure size 432x288 with 1 Axes>"
      ]
     },
     "metadata": {
      "needs_background": "light",
      "tags": []
     },
     "output_type": "display_data"
    }
   ],
   "source": [
    "sns.boxplot(x=data['Y'])"
   ]
  },
  {
   "cell_type": "markdown",
   "metadata": {
    "id": "UA-7PDvDYY9J"
   },
   "source": [
    "From above box plot, we can conclude that the dataset is holding few outliners. we need to remove them"
   ]
  },
  {
   "cell_type": "markdown",
   "metadata": {
    "id": "SdeK_NH1GtV0"
   },
   "source": [
    "# <u>Removal Of outliers</u>\n",
    " <ol>\n",
    " <li>Using Z score</li>\n",
    " <li> and Using ITQ</li>\n",
    "</ol>"
   ]
  },
  {
   "cell_type": "code",
   "execution_count": 662,
   "metadata": {
    "colab": {
     "base_uri": "https://localhost:8080/"
    },
    "id": "JUDrUo87F1zn",
    "outputId": "9a2d7c29-69f0-4745-dc4a-4cdc6ba8479d"
   },
   "outputs": [
    {
     "name": "stdout",
     "output_type": "stream",
     "text": [
      "[[0.90855142 1.61656054]\n",
      " [0.95645395 1.59597943]\n",
      " [0.09420832 1.43904846]\n",
      " [1.45663625 1.63714165]\n",
      " [0.49259774 1.47763804]\n",
      " [1.30095302 2.6694559 ]\n",
      " [1.46861189 0.430574  ]\n",
      " [1.68097979 1.25896373]\n",
      " [1.00156217 2.78522465]\n",
      " [0.01357238 0.20229517]\n",
      " [0.98639304 0.47756754]\n",
      " [1.52849006 0.25117531]\n",
      " [0.54648809 0.22030365]\n",
      " [0.16326781 0.12254337]\n",
      " [0.98040522 0.28461962]\n",
      " [1.4714062  0.22544892]\n",
      " [1.44146712 0.22287629]\n",
      " [0.74089254 0.12254337]\n",
      " [1.16922104 0.16370559]\n",
      " [0.9057571  0.10453489]\n",
      " [0.10019614 0.24603004]\n",
      " [0.04031797 0.05565476]\n",
      " [0.98639304 0.31291865]\n",
      " [0.66025661 0.56503726]\n",
      " [1.77997837 0.10710753]\n",
      " [0.86064888 0.05565476]\n",
      " [0.84268543 0.04021892]\n",
      " [0.50137987 0.12768865]\n",
      " [0.35767226 0.27432906]\n",
      " [0.46265865 0.18102803]]\n"
     ]
    }
   ],
   "source": [
    "# Z-SCORE\n",
    "from scipy import stats\n",
    "import numpy as np\n",
    "z = np.abs(stats.zscore(data))\n",
    "print(z)"
   ]
  },
  {
   "cell_type": "code",
   "execution_count": 663,
   "metadata": {
    "colab": {
     "base_uri": "https://localhost:8080/"
    },
    "id": "c7hIzih1F1w5",
    "outputId": "72ba6179-31cc-4d17-cbb0-918fb07b55ff"
   },
   "outputs": [
    {
     "name": "stdout",
     "output_type": "stream",
     "text": [
      "(array([], dtype=int64), array([], dtype=int64))\n"
     ]
    }
   ],
   "source": [
    "threshold = 3\n",
    "print(np.where(z > 3))"
   ]
  },
  {
   "cell_type": "markdown",
   "metadata": {
    "id": "CT8y-ahlHV2G"
   },
   "source": [
    "#### **Observation**:no outliners are found using Z-score test"
   ]
  },
  {
   "cell_type": "code",
   "execution_count": 664,
   "metadata": {
    "colab": {
     "base_uri": "https://localhost:8080/",
     "height": 283
    },
    "id": "64btwcnUHU8l",
    "outputId": "a6d16985-0f4b-4e26-e3dc-a0aa155f206d"
   },
   "outputs": [
    {
     "data": {
      "text/plain": [
       "<matplotlib.collections.PathCollection at 0x7f3bcbe84ad0>"
      ]
     },
     "execution_count": 664,
     "metadata": {
      "tags": []
     },
     "output_type": "execute_result"
    },
    {
     "data": {
      "image/png": "[encoded data removed]",
      "text/plain": [
       "<Figure size 432x288 with 1 Axes>"
      ]
     },
     "metadata": {
      "needs_background": "light",
      "tags": []
     },
     "output_type": "display_data"
    }
   ],
   "source": [
    "# Visualising data points using a Scatter plot\n",
    "plt.scatter(data['X'],data['Y'])"
   ]
  },
  {
   "cell_type": "code",
   "execution_count": 665,
   "metadata": {
    "colab": {
     "base_uri": "https://localhost:8080/"
    },
    "id": "XePpunVvBeR4",
    "outputId": "37b3a15d-16ad-4c2e-f2d1-908a2c718ddb"
   },
   "outputs": [
    {
     "data": {
      "text/plain": [
       "X    29.075\n",
       "Y    14.600\n",
       "dtype: float64"
      ]
     },
     "execution_count": 665,
     "metadata": {
      "tags": []
     },
     "output_type": "execute_result"
    }
   ],
   "source": [
    "# Implementing ITQ\n",
    "q1 = data.quantile(0.25)\n",
    "q3 = data.quantile(0.75)\n",
    "iqr = q3 - q1\n",
    "iqr\n"
   ]
  },
  {
   "cell_type": "code",
   "execution_count": 666,
   "metadata": {
    "colab": {
     "base_uri": "https://localhost:8080/"
    },
    "id": "RGPE8z4xnWhJ",
    "outputId": "2ca3fb27-ec9b-4504-d528-9148665fe6b7"
   },
   "outputs": [
    {
     "data": {
      "text/plain": [
       "(30, 2)"
      ]
     },
     "execution_count": 666,
     "metadata": {
      "tags": []
     },
     "output_type": "execute_result"
    }
   ],
   "source": [
    "data.shape"
   ]
  },
  {
   "cell_type": "code",
   "execution_count": 667,
   "metadata": {
    "colab": {
     "base_uri": "https://localhost:8080/"
    },
    "id": "0quGhNoTnd62",
    "outputId": "374229af-a16a-4f97-f569-6ae7b170fb31"
   },
   "outputs": [
    {
     "data": {
      "text/plain": [
       "(22, 2)"
      ]
     },
     "execution_count": 667,
     "metadata": {
      "tags": []
     },
     "output_type": "execute_result"
    }
   ],
   "source": [
    "data_cleared = data[~((data < (q1 - 1.5 * iqr)) |(data > (q3 + 1.5 * iqr))).any(axis=1)]\n",
    "data_cleared.shape"
   ]
  },
  {
   "cell_type": "markdown",
   "metadata": {
    "id": "vRsD8KSHZYOr"
   },
   "source": [
    "### After implementing ITQ, 8 rows are treated as outliners and those are ignored from dataset"
   ]
  },
  {
   "cell_type": "code",
   "execution_count": 668,
   "metadata": {
    "colab": {
     "base_uri": "https://localhost:8080/",
     "height": 297
    },
    "id": "BWPvpojNnd1R",
    "outputId": "530ec64d-8071-4896-bf46-5393f5f611c4"
   },
   "outputs": [
    {
     "data": {
      "text/plain": [
       "<matplotlib.axes._subplots.AxesSubplot at 0x7f3bcbdb7b10>"
      ]
     },
     "execution_count": 668,
     "metadata": {
      "tags": []
     },
     "output_type": "execute_result"
    },
    {
     "data": {
      "image/png": "[encoded data removed]",
      "text/plain": [
       "<Figure size 432x288 with 1 Axes>"
      ]
     },
     "metadata": {
      "needs_background": "light",
      "tags": []
     },
     "output_type": "display_data"
    }
   ],
   "source": [
    "sns.boxplot(x=data_cleared['X'])"
   ]
  },
  {
   "cell_type": "code",
   "execution_count": 669,
   "metadata": {
    "colab": {
     "base_uri": "https://localhost:8080/",
     "height": 297
    },
    "id": "hXxWpyqXndw7",
    "outputId": "51453146-9d9d-4b9e-e60f-3288a8f8c01b"
   },
   "outputs": [
    {
     "data": {
      "text/plain": [
       "<matplotlib.axes._subplots.AxesSubplot at 0x7f3bcbd22810>"
      ]
     },
     "execution_count": 669,
     "metadata": {
      "tags": []
     },
     "output_type": "execute_result"
    },
    {
     "data": {
      "image/png": "[encoded data removed]",
      "text/plain": [
       "<Figure size 432x288 with 1 Axes>"
      ]
     },
     "metadata": {
      "needs_background": "light",
      "tags": []
     },
     "output_type": "display_data"
    }
   ],
   "source": [
    "# outliners are reduced\n",
    "sns.boxplot(x=data_cleared['Y'])"
   ]
  },
  {
   "cell_type": "code",
   "execution_count": 670,
   "metadata": {
    "colab": {
     "base_uri": "https://localhost:8080/",
     "height": 283
    },
    "id": "cOfoO7Z0nvX-",
    "outputId": "df3ac43f-9891-48e2-e894-bfc463c0f3c3"
   },
   "outputs": [
    {
     "data": {
      "text/plain": [
       "<matplotlib.collections.PathCollection at 0x7f3bcbd0d4d0>"
      ]
     },
     "execution_count": 670,
     "metadata": {
      "tags": []
     },
     "output_type": "execute_result"
    },
    {
     "data": {
      "image/png": "[encoded data removed]",
      "text/plain": [
       "<Figure size 432x288 with 1 Axes>"
      ]
     },
     "metadata": {
      "needs_background": "light",
      "tags": []
     },
     "output_type": "display_data"
    }
   ],
   "source": [
    "# scatter plot of data before data clean\n",
    "plt.scatter(data['X'],data['Y'])"
   ]
  },
  {
   "cell_type": "code",
   "execution_count": 671,
   "metadata": {
    "colab": {
     "base_uri": "https://localhost:8080/",
     "height": 283
    },
    "id": "mBMte2NHn16P",
    "outputId": "5bf9f0d1-1bba-4983-d2d8-dc1228f71992"
   },
   "outputs": [
    {
     "data": {
      "text/plain": [
       "<matplotlib.collections.PathCollection at 0x7f3bcbc12a10>"
      ]
     },
     "execution_count": 671,
     "metadata": {
      "tags": []
     },
     "output_type": "execute_result"
    },
    {
     "data": {
      "image/png": "[encoded data removed]",
      "text/plain": [
       "<Figure size 432x288 with 1 Axes>"
      ]
     },
     "metadata": {
      "needs_background": "light",
      "tags": []
     },
     "output_type": "display_data"
    }
   ],
   "source": [
    "#scatter plot of data after data clean\n",
    "plt.scatter(data_cleared['X'],data_cleared['Y'])"
   ]
  },
  {
   "cell_type": "code",
   "execution_count": 672,
   "metadata": {
    "id": "Z8O3FiLIoA3i"
   },
   "outputs": [],
   "source": [
    "data2 = data.copy()\n",
    "data = data_cleared.copy()"
   ]
  },
  {
   "cell_type": "code",
   "execution_count": 673,
   "metadata": {
    "id": "bDLx-paPWQQ7"
   },
   "outputs": [],
   "source": [
    "from sklearn.model_selection import train_test_split"
   ]
  },
  {
   "cell_type": "markdown",
   "metadata": {
    "id": "r03aPfZAZzS9"
   },
   "source": [
    "## **Normalisation Of Data Set**\n",
    "\n",
    "---"
   ]
  },
  {
   "cell_type": "code",
   "execution_count": 674,
   "metadata": {
    "colab": {
     "base_uri": "https://localhost:8080/"
    },
    "id": "FhAqpIPGHU5K",
    "outputId": "71ec3a08-a30d-452a-c05c-0f6c3d3650b3"
   },
   "outputs": [
    {
     "data": {
      "text/plain": [
       "[[0.45672191528545114, 0.364341085271318],\n",
       " [0.14917127071823194, 0.08785529715762205],\n",
       " [0.9226519337016574, 0.31524547803617503],\n",
       " [0.6206261510128914, 0.3462532299741592],\n",
       " [0.5027624309392265, 0.44444444444444364],\n",
       " [0.15101289134438312, 0.2816537467700249],\n",
       " [0.0, 0.3410852713178288],\n",
       " [0.009208103130755065, 0.34366925064599474],\n",
       " [0.22467771639042364, 0.44444444444444364]]"
      ]
     },
     "execution_count": 674,
     "metadata": {
      "tags": []
     },
     "output_type": "execute_result"
    }
   ],
   "source": [
    "data_x = data['X']\n",
    "data_y = data['Y']\n",
    "\n",
    "# normalising the data\n",
    "data_x = (data_x - data_x.min())/(data_x.max() - data_x.min())\n",
    "data_y = (data_y - data_y.min())/(data_y.max() - data_y.min())\n",
    "data_x\n",
    "\n",
    "data_x = np.array(data_x)\n",
    "data_y = np.array(data_y)\n",
    "datas =[]\n",
    "for i in range(len(data_x)):\n",
    "  datas.append([data_x[i],data_y[i]])\n",
    "\n",
    "datas[1:10]"
   ]
  },
  {
   "cell_type": "code",
   "execution_count": 675,
   "metadata": {
    "id": "4Y_DHKCaZDv9"
   },
   "outputs": [],
   "source": [
    "# splitting of data set into training and testing\n",
    "data_train,data_test = train_test_split(datas,test_size=0.1)"
   ]
  },
  {
   "cell_type": "code",
   "execution_count": 676,
   "metadata": {
    "colab": {
     "base_uri": "https://localhost:8080/"
    },
    "id": "McZ1DAIWWk3p",
    "outputId": "0381fd2b-2f84-4282-cfae-065871f20110"
   },
   "outputs": [
    {
     "data": {
      "text/plain": [
       "[[0.5027624309392265, 0.44444444444444364],\n",
       " [0.6206261510128914, 0.3462532299741592],\n",
       " [0.9042357274401472, 1.0],\n",
       " [0.14917127071823194, 0.08785529715762205],\n",
       " [1.0, 0.4599483204134365],\n",
       " [0.1878453038674034, 0.5116279069767424],\n",
       " [0.4217311233885818, 0.3204134366925055],\n",
       " [0.15101289134438312, 0.2816537467700249],\n",
       " [0.0, 0.3410852713178288],\n",
       " [0.5948434622467771, 0.7493540051679578],\n",
       " [0.3425414364640883, 0.2919896640826873],\n",
       " [0.29834254143646416, 0.4392764857881132],\n",
       " [0.9226519337016574, 0.31524547803617503],\n",
       " [0.8121546961325966, 0.40310077519379856],\n",
       " [0.7311233885819522, 0.4625322997416009],\n",
       " [0.19337016574585636, 0.5271317829457353],\n",
       " [0.14917127071823194, 0.2532299741602067],\n",
       " [0.009208103130755065, 0.34366925064599474],\n",
       " [0.22467771639042364, 0.44444444444444364]]"
      ]
     },
     "execution_count": 676,
     "metadata": {
      "tags": []
     },
     "output_type": "execute_result"
    }
   ],
   "source": [
    "data_train"
   ]
  },
  {
   "cell_type": "markdown",
   "metadata": {
    "id": "7SrXiUdRaA0G"
   },
   "source": [
    "## ***Ready*** To Train The Model\n",
    "---"
   ]
  },
  {
   "cell_type": "code",
   "execution_count": 677,
   "metadata": {
    "colab": {
     "base_uri": "https://localhost:8080/"
    },
    "id": "LPIGTXl8Bp-y",
    "outputId": "457fbfad-4c78-41d0-ae77-8fc788a1efd1"
   },
   "outputs": [
    {
     "data": {
      "text/plain": [
       "[[0.5027624309392265, 0.44444444444444364],\n",
       " [0.6206261510128914, 0.3462532299741592],\n",
       " [0.9042357274401472, 1.0],\n",
       " [0.14917127071823194, 0.08785529715762205],\n",
       " [1.0, 0.4599483204134365],\n",
       " [0.1878453038674034, 0.5116279069767424],\n",
       " [0.4217311233885818, 0.3204134366925055],\n",
       " [0.15101289134438312, 0.2816537467700249],\n",
       " [0.0, 0.3410852713178288],\n",
       " [0.5948434622467771, 0.7493540051679578],\n",
       " [0.3425414364640883, 0.2919896640826873],\n",
       " [0.29834254143646416, 0.4392764857881132],\n",
       " [0.9226519337016574, 0.31524547803617503],\n",
       " [0.8121546961325966, 0.40310077519379856],\n",
       " [0.7311233885819522, 0.4625322997416009],\n",
       " [0.19337016574585636, 0.5271317829457353],\n",
       " [0.14917127071823194, 0.2532299741602067],\n",
       " [0.009208103130755065, 0.34366925064599474],\n",
       " [0.22467771639042364, 0.44444444444444364]]"
      ]
     },
     "execution_count": 677,
     "metadata": {
      "tags": []
     },
     "output_type": "execute_result"
    }
   ],
   "source": [
    "#STEP 2: initialising required parameters\n",
    "m = 1\n",
    "c = -1\n",
    "iter = 1\n",
    "epochs = 300\n",
    "alpha = 0.1\n",
    "error = []\n",
    "data_train"
   ]
  },
  {
   "cell_type": "markdown",
   "metadata": {
    "id": "I3WHEf2aaIQD"
   },
   "source": [
    "## Gradient Descent Algorithm"
   ]
  },
  {
   "cell_type": "code",
   "execution_count": 678,
   "metadata": {
    "id": "FmU7dVfrB3jA"
   },
   "outputs": [],
   "source": [
    "# while loop is runned until iter reaches epochs\n",
    "while (iter<=epochs):\n",
    "  # running for loop to calculate and update model parameters for each sample\n",
    "  der_m = 0\n",
    "  der_c = 0\n",
    "  err = 0\n",
    "  for i in range(0,len(data_train)):\n",
    "    # calculating derivatives of m and c\n",
    "    der_m += ((data_train[i][1] - (m * data_train[i][0]) - c ))*(data_train[i][0])\n",
    "    der_c +=  (data_train[i][1] - (m * data_train[i][0]) - c )\n",
    "\n",
    "  # computing error rate with present m and c values \n",
    "  err = (der_c)**2\n",
    "  err = (err)/(2*len(data_train))\n",
    "  error.append(err)\n",
    "\n",
    "\n",
    "  der_m = (-1)*(1/len(data_train))*der_m\n",
    "  der_c = (-1)*(1/len(data_train))*der_c\n",
    "\n",
    "  # calculating change in m and c\n",
    "  change_m = (-1)*alpha*der_m\n",
    "  change_c = (-1)*alpha*der_c\n",
    "\n",
    "  #updating m and c\n",
    "  m = m + change_m\n",
    "  c = c + change_c\n",
    "\n",
    "\n",
    "  #incrementing no of iterations\n",
    "  iter = iter + 1\n",
    " \n"
   ]
  },
  {
   "cell_type": "code",
   "execution_count": 679,
   "metadata": {
    "colab": {
     "base_uri": "https://localhost:8080/"
    },
    "id": "pKgGA1lOB-HJ",
    "outputId": "2176f653-ec5a-45ae-9f5a-63130ca0c53d"
   },
   "outputs": [
    {
     "name": "stdout",
     "output_type": "stream",
     "text": [
      "0.3576223220060807 0.2640345274806709\n"
     ]
    }
   ],
   "source": [
    "# computed slope and y-intercept\n",
    "print(m,c)"
   ]
  },
  {
   "cell_type": "code",
   "execution_count": 680,
   "metadata": {
    "colab": {
     "base_uri": "https://localhost:8080/"
    },
    "id": "IwAmGGMrezZv",
    "outputId": "2fe5985d-d4ff-4660-a527-2da2a9808636"
   },
   "outputs": [
    {
     "name": "stdout",
     "output_type": "stream",
     "text": [
      "[0.45672192 0.44014733 0.65561694]\n"
     ]
    },
    {
     "data": {
      "text/plain": [
       "array([0.36434109, 0.51162791, 0.        ])"
      ]
     },
     "execution_count": 680,
     "metadata": {
      "tags": []
     },
     "output_type": "execute_result"
    }
   ],
   "source": [
    "data_test = np.array(data_test)\n",
    "data_test_x = data_test[:,0]\n",
    "print(data_test_x)\n",
    "data_test_y = data_test[:,1]\n",
    "data_test_y"
   ]
  },
  {
   "cell_type": "code",
   "execution_count": 681,
   "metadata": {
    "colab": {
     "base_uri": "https://localhost:8080/"
    },
    "id": "seiiMMGybhaT",
    "outputId": "8f355143-2fec-4d31-b21c-2967ea4e27e8"
   },
   "outputs": [
    {
     "name": "stdout",
     "output_type": "stream",
     "text": [
      "0.42736847933611843\n",
      "0.42144103753491263\n",
      "0.4984977809505875\n"
     ]
    }
   ],
   "source": [
    "# predicting results of test data set\n",
    "pred = []\n",
    "for i in range(len(data_test_x)):\n",
    "  print((m*data_test_x[i]) +c)\n",
    "  pred.append((m*data_test_x[i]) +c)"
   ]
  },
  {
   "cell_type": "markdown",
   "metadata": {},
   "source": [
    "## Mean Squared error of testing data"
   ]
  },
  {
   "cell_type": "code",
   "execution_count": 682,
   "metadata": {
    "colab": {
     "base_uri": "https://localhost:8080/"
    },
    "id": "G3sZxfAKzJE9",
    "outputId": "119b20d5-ec80-4876-a9e4-b138abc09b1f"
   },
   "outputs": [
    {
     "data": {
      "text/plain": [
       "0.08686872047832574"
      ]
     },
     "execution_count": 682,
     "metadata": {
      "tags": []
     },
     "output_type": "execute_result"
    }
   ],
   "source": [
    "# computig mean squared error of testing data\n",
    "mse = 0\n",
    "for i in range(0,len(data_test)):\n",
    "  mse += (data_test[i][1] - (m*data_test[i][0]) - c)**2\n",
    "mse = mse/len(data_test)\n",
    "mse"
   ]
  },
  {
   "cell_type": "markdown",
   "metadata": {
    "id": "GMmp2cbSanul"
   },
   "source": [
    "## Predicted Data Visualisation"
   ]
  },
  {
   "cell_type": "code",
   "execution_count": 683,
   "metadata": {
    "colab": {
     "base_uri": "https://localhost:8080/",
     "height": 295
    },
    "id": "CzqthBAtH181",
    "outputId": "80847493-96fb-4d61-dc38-982b07bc1e85"
   },
   "outputs": [
    {
     "data": {
      "image/png": "[encoded data removed]",
      "text/plain": [
       "<Figure size 432x288 with 1 Axes>"
      ]
     },
     "metadata": {
      "needs_background": "light",
      "tags": []
     },
     "output_type": "display_data"
    }
   ],
   "source": [
    "plt.scatter(data_test_x,data_test_y,label=\"Original Data points\")\n",
    "plt.plot(data_test_x,pred,'r',label=\"predicted regression line\")\n",
    "plt.title(\"Linear Regression using Batch Gradient Descent\")\n",
    "plt.xlabel(\"Data x\")\n",
    "plt.ylabel(\"Data y\")\n",
    "plt.grid()\n",
    "plt.legend()\n",
    "plt.show()"
   ]
  },
  {
   "cell_type": "code",
   "execution_count": 684,
   "metadata": {
    "colab": {
     "base_uri": "https://localhost:8080/"
    },
    "id": "zKb1473ls03G",
    "outputId": "5a3be2a1-c5eb-4203-fd9d-ba3805701267"
   },
   "outputs": [
    {
     "data": {
      "text/plain": [
       "0     0.443834\n",
       "1     0.485984\n",
       "2     0.587409\n",
       "3     0.317382\n",
       "4     0.621657\n",
       "5     0.331212\n",
       "6     0.414855\n",
       "7     0.318040\n",
       "8     0.264035\n",
       "9     0.476764\n",
       "10    0.386535\n",
       "11    0.370728\n",
       "12    0.593995\n",
       "13    0.554479\n",
       "14    0.525501\n",
       "15    0.333188\n",
       "16    0.317382\n",
       "17    0.267328\n",
       "18    0.344384\n",
       "Name: 0, dtype: float64"
      ]
     },
     "execution_count": 684,
     "metadata": {
      "tags": []
     },
     "output_type": "execute_result"
    }
   ],
   "source": [
    "data_train = pd.DataFrame(data_train)\n",
    "\n",
    "data_train_pred = m*data_train[0] + c\n",
    "data_train_pred \n",
    "\n"
   ]
  },
  {
   "cell_type": "code",
   "execution_count": 685,
   "metadata": {
    "colab": {
     "base_uri": "https://localhost:8080/",
     "height": 295
    },
    "id": "9tviJrMkq33x",
    "outputId": "5dfb5186-15e3-4792-fde7-fe79ee1b05f6"
   },
   "outputs": [
    {
     "data": {
      "image/png": "[encoded data removed]",
      "text/plain": [
       "<Figure size 432x288 with 1 Axes>"
      ]
     },
     "metadata": {
      "needs_background": "light",
      "tags": []
     },
     "output_type": "display_data"
    }
   ],
   "source": [
    "plt.plot(data_train[0],data_train_pred,'red',label=\"Regression Line\")\n",
    "plt.scatter(data_train[0],data_train[1],label=\"original data points\")\n",
    "plt.xlabel(\"Pressure\")\n",
    "plt.ylabel(\"Weight of Liquid Nitrogen\")\n",
    "plt.legend()\n",
    "plt.grid()\n",
    "plt.title(\"Training Results Analysis\")\n",
    "plt.show()\n",
    "%matplotlib inline"
   ]
  },
  {
   "cell_type": "code",
   "execution_count": 686,
   "metadata": {
    "colab": {
     "base_uri": "https://localhost:8080/",
     "height": 202
    },
    "id": "Vi9D6ZKhtZ3S",
    "outputId": "802220d1-15f5-46eb-ebc0-fbb8f52c30ed"
   },
   "outputs": [
    {
     "data": {
      "text/html": [
       "<div>\n",
       "<style scoped>\n",
       "    .dataframe tbody tr th:only-of-type {\n",
       "        vertical-align: middle;\n",
       "    }\n",
       "\n",
       "    .dataframe tbody tr th {\n",
       "        vertical-align: top;\n",
       "    }\n",
       "\n",
       "    .dataframe thead th {\n",
       "        text-align: right;\n",
       "    }\n",
       "</style>\n",
       "<table border=\"1\" class=\"dataframe\">\n",
       "  <thead>\n",
       "    <tr style=\"text-align: right;\">\n",
       "      <th></th>\n",
       "      <th>0</th>\n",
       "      <th>1</th>\n",
       "    </tr>\n",
       "  </thead>\n",
       "  <tbody>\n",
       "    <tr>\n",
       "      <th>0</th>\n",
       "      <td>0.502762</td>\n",
       "      <td>0.444444</td>\n",
       "    </tr>\n",
       "    <tr>\n",
       "      <th>1</th>\n",
       "      <td>0.620626</td>\n",
       "      <td>0.346253</td>\n",
       "    </tr>\n",
       "    <tr>\n",
       "      <th>2</th>\n",
       "      <td>0.904236</td>\n",
       "      <td>1.000000</td>\n",
       "    </tr>\n",
       "    <tr>\n",
       "      <th>3</th>\n",
       "      <td>0.149171</td>\n",
       "      <td>0.087855</td>\n",
       "    </tr>\n",
       "    <tr>\n",
       "      <th>4</th>\n",
       "      <td>1.000000</td>\n",
       "      <td>0.459948</td>\n",
       "    </tr>\n",
       "  </tbody>\n",
       "</table>\n",
       "</div>"
      ],
      "text/plain": [
       "          0         1\n",
       "0  0.502762  0.444444\n",
       "1  0.620626  0.346253\n",
       "2  0.904236  1.000000\n",
       "3  0.149171  0.087855\n",
       "4  1.000000  0.459948"
      ]
     },
     "execution_count": 686,
     "metadata": {
      "tags": []
     },
     "output_type": "execute_result"
    }
   ],
   "source": [
    "data_train.head()"
   ]
  },
  {
   "cell_type": "markdown",
   "metadata": {
    "id": "Lyo5aRQ-bXwL"
   },
   "source": [
    "## Error Rate Analysis\n",
    "\n",
    "---"
   ]
  },
  {
   "cell_type": "code",
   "execution_count": 687,
   "metadata": {
    "colab": {
     "base_uri": "https://localhost:8080/",
     "height": 295
    },
    "id": "WDyxpC0pVbNG",
    "outputId": "5d9a13fb-9115-40c5-d91e-2b9fc35e414e"
   },
   "outputs": [
    {
     "data": {
      "image/png": "[encoded data removed]",
      "text/plain": [
       "<Figure size 432x288 with 1 Axes>"
      ]
     },
     "metadata": {
      "needs_background": "light",
      "tags": []
     },
     "output_type": "display_data"
    }
   ],
   "source": [
    "iters = np.arange(epochs)\n",
    "plt.plot(iters,error,color='m',label=\"error rate at ith iteration\")\n",
    "plt.legend()\n",
    "plt.xlabel(\"Number of iteration\")\n",
    "plt.ylabel(\"Error Rate at particular Iteration\")\n",
    "plt.title(\"Error Analysis\")\n",
    "plt.grid()\n",
    "plt.show()\n"
   ]
  },
  {
   "cell_type": "markdown",
   "metadata": {
    "id": "t3jsIUUIcjQI"
   },
   "source": [
    "## Mean Squared Error Of Training Data"
   ]
  },
  {
   "cell_type": "code",
   "execution_count": 688,
   "metadata": {
    "colab": {
     "base_uri": "https://localhost:8080/"
    },
    "id": "uub3jwuGH6V-",
    "outputId": "caa3440c-4c85-4a77-b20f-5e20b9200b29"
   },
   "outputs": [
    {
     "data": {
      "text/plain": [
       "0.029863821277481883"
      ]
     },
     "execution_count": 688,
     "metadata": {
      "tags": []
     },
     "output_type": "execute_result"
    }
   ],
   "source": [
    "# computig mean squared error\n",
    "mse = 0\n",
    "mse = (data_train[1] - m*data_train[0] - c)**2\n",
    "mse.sum()/len(data_train)\n",
    "\n"
   ]
  },
  {
   "cell_type": "code",
   "execution_count": 689,
   "metadata": {
    "colab": {
     "base_uri": "https://localhost:8080/"
    },
    "id": "yh1HF02VJI0y",
    "outputId": "9c009bf8-58d9-44ba-b687-5fedbfa1cc51"
   },
   "outputs": [
    {
     "name": "stdout",
     "output_type": "stream",
     "text": [
      "62.2 406.7 120.0 578.6\n"
     ]
    }
   ],
   "source": [
    "min_x = data2['X'].min()\n",
    "max_x = data2['X'].max()\n",
    "min_y = data2['Y'].min()\n",
    "max_y = data2['Y'].max()\n",
    "print(min_x,min_y,max_x,max_y)"
   ]
  },
  {
   "cell_type": "markdown",
   "metadata": {
    "id": "Sp2u5LGmcp2j"
   },
   "source": [
    "## Model Ready To Take Input and Produce Output"
   ]
  },
  {
   "cell_type": "code",
   "execution_count": 690,
   "metadata": {
    "colab": {
     "base_uri": "https://localhost:8080/"
    },
    "id": "8WggG9sVS3Qi",
    "outputId": "f216b9a0-33de-4987-a0f2-d7939a8711b4"
   },
   "outputs": [
    {
     "name": "stdout",
     "output_type": "stream",
     "text": [
      "enter pressure75.1\n"
     ]
    },
    {
     "data": {
      "text/plain": [
       "465.8077960917769"
      ]
     },
     "execution_count": 690,
     "metadata": {
      "tags": []
     },
     "output_type": "execute_result"
    }
   ],
   "source": [
    "input_x = float(input(\"enter pressure\"))\n",
    "input_x = (input_x - min_x)/(max_x - min_x)\n",
    "output_y = m*input_x + c\n",
    "output_y = (output_y)*(max_y - min_y) + min_y\n",
    "output_y"
   ]
  },
  {
   "cell_type": "code",
   "execution_count": 691,
   "metadata": {
    "colab": {
     "base_uri": "https://localhost:8080/"
    },
    "id": "MuYFkj3lTM4C",
    "outputId": "dde08aea-00f0-4f24-a0b2-b24ea443d023"
   },
   "outputs": [
    {
     "name": "stdout",
     "output_type": "stream",
     "text": [
      "465.8077960917769 577.8\n",
      "464.95692720384824 577.0\n",
      "480.272567186564 570.9\n",
      "507.8194474332542 578.6\n",
      "490.69571106369006 572.4\n",
      "505.05412354748603 411.2\n",
      "508.03216465523633 531.7\n",
      "452.0875352739273 563.9\n",
      "499.736192997932 406.7\n",
      "482.1870221844035 507.1\n",
      "464.4251341488928 496.4\n",
      "509.09575076514716 505.2\n",
      "491.65293856260973 506.4\n",
      "484.8459874591805 510.2\n",
      "464.5314927598839 503.9\n",
      "455.8100866586152 506.2\n",
      "456.3418797135706 506.3\n",
      "468.7858371995272 510.2\n",
      "502.7142341056823 508.6\n",
      "498.03445522207466 510.9\n",
      "480.1662085755729 505.4\n",
      "481.22979468548374 512.8\n",
      "\n",
      " 88173.31946541333\n",
      "4007.8781575187877\n"
     ]
    }
   ],
   "source": [
    "err = 0\n",
    "for i in range(0,len(data_x)):\n",
    "  input_x = data2['X'][i]\n",
    "  input_x = (input_x - min_x)/(max_x - min_x)\n",
    "  output_y = m*input_x + c\n",
    "  output_y = (output_y)*(max_y - min_y) + min_y\n",
    "  err += (output_y-data2['Y'][i])**2\n",
    "  print(output_y,data2['Y'][i])\n",
    "\n",
    "print(\"\\n\",err)\n",
    "print(err/len(data_x))"
   ]
  },
  {
   "cell_type": "code",
   "execution_count": 691,
   "metadata": {
    "id": "D64tjRgxUQp2"
   },
   "outputs": [],
   "source": []
  }
 ],
 "metadata": {
  "colab": {
   "collapsed_sections": [],
   "name": "Batch Gradient Descent.ipynb",
   "provenance": []
  },
  "kernelspec": {
   "display_name": "Python 3",
   "language": "python",
   "name": "python3"
  },
  "language_info": {
   "codemirror_mode": {
    "name": "ipython",
    "version": 3
   },
   "file_extension": ".py",
   "mimetype": "text/x-python",
   "name": "python",
   "nbconvert_exporter": "python",
   "pygments_lexer": "ipython3",
   "version": "3.7.7"
  }
 },
 "nbformat": 4,
 "nbformat_minor": 1
}
