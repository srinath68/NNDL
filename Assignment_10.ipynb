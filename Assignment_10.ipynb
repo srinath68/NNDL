{
  "nbformat": 4,
  "nbformat_minor": 0,
  "metadata": {
    "colab": {
      "name": "Assignment 10",
      "provenance": [],
      "authorship_tag": "ABX9TyMKlPxwqC5/H9g0gPTsLKPp",
      "include_colab_link": true
    },
    "kernelspec": {
      "name": "python3",
      "display_name": "Python 3"
    },
    "language_info": {
      "name": "python"
    }
  },
  "cells": [
    {
      "cell_type": "markdown",
      "metadata": {
        "id": "view-in-github",
        "colab_type": "text"
      },
      "source": [
        "<a href=\"https://colab.research.google.com/github/srinath68/NNDL/blob/main/Assignment_10.ipynb\" target=\"_parent\"><img src=\"https://colab.research.google.com/assets/colab-badge.svg\" alt=\"Open In Colab\"/></a>"
      ]
    },
    {
      "cell_type": "markdown",
      "metadata": {
        "id": "_MUUY5a1AOXi"
      },
      "source": [
        "# **MOMENTUM GRADIENT DESCENT OPTIMISER**"
      ]
    },
    {
      "cell_type": "code",
      "metadata": {
        "id": "IWdH4ZEqARET"
      },
      "source": [
        "import numpy as np\n",
        "import matplotlib.pyplot as plt\n",
        "import pandas as pd\n",
        "from sklearn.preprocessing import minmax_scale\n",
        "from sklearn.model_selection import train_test_split\n",
        "import seaborn as sns"
      ],
      "execution_count": 1,
      "outputs": []
    },
    {
      "cell_type": "code",
      "metadata": {
        "colab": {
          "base_uri": "https://localhost:8080/",
          "height": 202
        },
        "id": "2McCYa2SAZOT",
        "outputId": "f20011e4-b192-4865-d4a7-4e9233aa0297"
      },
      "source": [
        "load_data = pd.read_excel(\"Load Data in kW.xlsx\")\n",
        "load_data.head()"
      ],
      "execution_count": 2,
      "outputs": [
        {
          "output_type": "execute_result",
          "data": {
            "text/html": [
              "<div>\n",
              "<style scoped>\n",
              "    .dataframe tbody tr th:only-of-type {\n",
              "        vertical-align: middle;\n",
              "    }\n",
              "\n",
              "    .dataframe tbody tr th {\n",
              "        vertical-align: top;\n",
              "    }\n",
              "\n",
              "    .dataframe thead th {\n",
              "        text-align: right;\n",
              "    }\n",
              "</style>\n",
              "<table border=\"1\" class=\"dataframe\">\n",
              "  <thead>\n",
              "    <tr style=\"text-align: right;\">\n",
              "      <th></th>\n",
              "      <th>5551.82208</th>\n",
              "    </tr>\n",
              "  </thead>\n",
              "  <tbody>\n",
              "    <tr>\n",
              "      <th>0</th>\n",
              "      <td>4983.17184</td>\n",
              "    </tr>\n",
              "    <tr>\n",
              "      <th>1</th>\n",
              "      <td>4888.39680</td>\n",
              "    </tr>\n",
              "    <tr>\n",
              "      <th>2</th>\n",
              "      <td>5072.95872</td>\n",
              "    </tr>\n",
              "    <tr>\n",
              "      <th>3</th>\n",
              "      <td>5196.25980</td>\n",
              "    </tr>\n",
              "    <tr>\n",
              "      <th>4</th>\n",
              "      <td>5641.29720</td>\n",
              "    </tr>\n",
              "  </tbody>\n",
              "</table>\n",
              "</div>"
            ],
            "text/plain": [
              "   5551.82208\n",
              "0  4983.17184\n",
              "1  4888.39680\n",
              "2  5072.95872\n",
              "3  5196.25980\n",
              "4  5641.29720"
            ]
          },
          "metadata": {
            "tags": []
          },
          "execution_count": 2
        }
      ]
    },
    {
      "cell_type": "code",
      "metadata": {
        "colab": {
          "base_uri": "https://localhost:8080/"
        },
        "id": "qDK2cQZMAejQ",
        "outputId": "903d1609-5e4e-4bee-f83b-746cafc8b30a"
      },
      "source": [
        "type(load_data)"
      ],
      "execution_count": 3,
      "outputs": [
        {
          "output_type": "execute_result",
          "data": {
            "text/plain": [
              "pandas.core.frame.DataFrame"
            ]
          },
          "metadata": {
            "tags": []
          },
          "execution_count": 3
        }
      ]
    },
    {
      "cell_type": "code",
      "metadata": {
        "id": "uJx76ZLJAijm"
      },
      "source": [
        "data = load_data.rename(columns={5551.82208:'load'},inplace=False)"
      ],
      "execution_count": 4,
      "outputs": []
    },
    {
      "cell_type": "code",
      "metadata": {
        "colab": {
          "base_uri": "https://localhost:8080/",
          "height": 202
        },
        "id": "Cpg-ARA_AnNZ",
        "outputId": "ab842db8-074a-4f8a-d077-ac699317092c"
      },
      "source": [
        "data.head()"
      ],
      "execution_count": 5,
      "outputs": [
        {
          "output_type": "execute_result",
          "data": {
            "text/html": [
              "<div>\n",
              "<style scoped>\n",
              "    .dataframe tbody tr th:only-of-type {\n",
              "        vertical-align: middle;\n",
              "    }\n",
              "\n",
              "    .dataframe tbody tr th {\n",
              "        vertical-align: top;\n",
              "    }\n",
              "\n",
              "    .dataframe thead th {\n",
              "        text-align: right;\n",
              "    }\n",
              "</style>\n",
              "<table border=\"1\" class=\"dataframe\">\n",
              "  <thead>\n",
              "    <tr style=\"text-align: right;\">\n",
              "      <th></th>\n",
              "      <th>load</th>\n",
              "    </tr>\n",
              "  </thead>\n",
              "  <tbody>\n",
              "    <tr>\n",
              "      <th>0</th>\n",
              "      <td>4983.17184</td>\n",
              "    </tr>\n",
              "    <tr>\n",
              "      <th>1</th>\n",
              "      <td>4888.39680</td>\n",
              "    </tr>\n",
              "    <tr>\n",
              "      <th>2</th>\n",
              "      <td>5072.95872</td>\n",
              "    </tr>\n",
              "    <tr>\n",
              "      <th>3</th>\n",
              "      <td>5196.25980</td>\n",
              "    </tr>\n",
              "    <tr>\n",
              "      <th>4</th>\n",
              "      <td>5641.29720</td>\n",
              "    </tr>\n",
              "  </tbody>\n",
              "</table>\n",
              "</div>"
            ],
            "text/plain": [
              "         load\n",
              "0  4983.17184\n",
              "1  4888.39680\n",
              "2  5072.95872\n",
              "3  5196.25980\n",
              "4  5641.29720"
            ]
          },
          "metadata": {
            "tags": []
          },
          "execution_count": 5
        }
      ]
    },
    {
      "cell_type": "code",
      "metadata": {
        "colab": {
          "base_uri": "https://localhost:8080/"
        },
        "id": "BIBf49a3ArMo",
        "outputId": "068baeb6-ee7b-4542-c443-3cb963618508"
      },
      "source": [
        "data.shape"
      ],
      "execution_count": 6,
      "outputs": [
        {
          "output_type": "execute_result",
          "data": {
            "text/plain": [
              "(2183, 1)"
            ]
          },
          "metadata": {
            "tags": []
          },
          "execution_count": 6
        }
      ]
    },
    {
      "cell_type": "code",
      "metadata": {
        "colab": {
          "base_uri": "https://localhost:8080/",
          "height": 294
        },
        "id": "w6PKMVY9Au-a",
        "outputId": "adca5770-bbfc-42fa-afa9-95909fc2ada1"
      },
      "source": [
        "data.describe()"
      ],
      "execution_count": 7,
      "outputs": [
        {
          "output_type": "execute_result",
          "data": {
            "text/html": [
              "<div>\n",
              "<style scoped>\n",
              "    .dataframe tbody tr th:only-of-type {\n",
              "        vertical-align: middle;\n",
              "    }\n",
              "\n",
              "    .dataframe tbody tr th {\n",
              "        vertical-align: top;\n",
              "    }\n",
              "\n",
              "    .dataframe thead th {\n",
              "        text-align: right;\n",
              "    }\n",
              "</style>\n",
              "<table border=\"1\" class=\"dataframe\">\n",
              "  <thead>\n",
              "    <tr style=\"text-align: right;\">\n",
              "      <th></th>\n",
              "      <th>load</th>\n",
              "    </tr>\n",
              "  </thead>\n",
              "  <tbody>\n",
              "    <tr>\n",
              "      <th>count</th>\n",
              "      <td>2183.000000</td>\n",
              "    </tr>\n",
              "    <tr>\n",
              "      <th>mean</th>\n",
              "      <td>6393.616060</td>\n",
              "    </tr>\n",
              "    <tr>\n",
              "      <th>std</th>\n",
              "      <td>17143.020064</td>\n",
              "    </tr>\n",
              "    <tr>\n",
              "      <th>min</th>\n",
              "      <td>3377.919600</td>\n",
              "    </tr>\n",
              "    <tr>\n",
              "      <th>25%</th>\n",
              "      <td>5257.520640</td>\n",
              "    </tr>\n",
              "    <tr>\n",
              "      <th>50%</th>\n",
              "      <td>5935.910400</td>\n",
              "    </tr>\n",
              "    <tr>\n",
              "      <th>75%</th>\n",
              "      <td>6738.692400</td>\n",
              "    </tr>\n",
              "    <tr>\n",
              "      <th>max</th>\n",
              "      <td>805444.430400</td>\n",
              "    </tr>\n",
              "  </tbody>\n",
              "</table>\n",
              "</div>"
            ],
            "text/plain": [
              "                load\n",
              "count    2183.000000\n",
              "mean     6393.616060\n",
              "std     17143.020064\n",
              "min      3377.919600\n",
              "25%      5257.520640\n",
              "50%      5935.910400\n",
              "75%      6738.692400\n",
              "max    805444.430400"
            ]
          },
          "metadata": {
            "tags": []
          },
          "execution_count": 7
        }
      ]
    },
    {
      "cell_type": "code",
      "metadata": {
        "colab": {
          "base_uri": "https://localhost:8080/"
        },
        "id": "NMuqb8oQAzez",
        "outputId": "3f372c0e-7f66-4073-e80a-89f931897076"
      },
      "source": [
        "data.info()"
      ],
      "execution_count": 8,
      "outputs": [
        {
          "output_type": "stream",
          "text": [
            "<class 'pandas.core.frame.DataFrame'>\n",
            "RangeIndex: 2183 entries, 0 to 2182\n",
            "Data columns (total 1 columns):\n",
            " #   Column  Non-Null Count  Dtype  \n",
            "---  ------  --------------  -----  \n",
            " 0   load    2183 non-null   float64\n",
            "dtypes: float64(1)\n",
            "memory usage: 17.2 KB\n"
          ],
          "name": "stdout"
        }
      ]
    },
    {
      "cell_type": "code",
      "metadata": {
        "colab": {
          "base_uri": "https://localhost:8080/",
          "height": 79
        },
        "id": "p4adtmujA3QW",
        "outputId": "c65be67f-291a-41aa-84f7-1179df8228ba"
      },
      "source": [
        "data.corr()"
      ],
      "execution_count": 9,
      "outputs": [
        {
          "output_type": "execute_result",
          "data": {
            "text/html": [
              "<div>\n",
              "<style scoped>\n",
              "    .dataframe tbody tr th:only-of-type {\n",
              "        vertical-align: middle;\n",
              "    }\n",
              "\n",
              "    .dataframe tbody tr th {\n",
              "        vertical-align: top;\n",
              "    }\n",
              "\n",
              "    .dataframe thead th {\n",
              "        text-align: right;\n",
              "    }\n",
              "</style>\n",
              "<table border=\"1\" class=\"dataframe\">\n",
              "  <thead>\n",
              "    <tr style=\"text-align: right;\">\n",
              "      <th></th>\n",
              "      <th>load</th>\n",
              "    </tr>\n",
              "  </thead>\n",
              "  <tbody>\n",
              "    <tr>\n",
              "      <th>load</th>\n",
              "      <td>1.0</td>\n",
              "    </tr>\n",
              "  </tbody>\n",
              "</table>\n",
              "</div>"
            ],
            "text/plain": [
              "      load\n",
              "load   1.0"
            ]
          },
          "metadata": {
            "tags": []
          },
          "execution_count": 9
        }
      ]
    },
    {
      "cell_type": "markdown",
      "metadata": {
        "id": "H5tKHPm1A6-w"
      },
      "source": [
        "# **VALIDATING NULL VALUE**"
      ]
    },
    {
      "cell_type": "code",
      "metadata": {
        "colab": {
          "base_uri": "https://localhost:8080/"
        },
        "id": "nS0cPAFnA8u5",
        "outputId": "c6bd258a-6314-4f40-bd3c-05134905a0fc"
      },
      "source": [
        "data.isnull().sum()"
      ],
      "execution_count": 10,
      "outputs": [
        {
          "output_type": "execute_result",
          "data": {
            "text/plain": [
              "load    0\n",
              "dtype: int64"
            ]
          },
          "metadata": {
            "tags": []
          },
          "execution_count": 10
        }
      ]
    },
    {
      "cell_type": "markdown",
      "metadata": {
        "id": "rfBCKQvHBFkH"
      },
      "source": [
        "# **VISUALISING OUTLINERS OF DATA**"
      ]
    },
    {
      "cell_type": "code",
      "metadata": {
        "colab": {
          "base_uri": "https://localhost:8080/",
          "height": 297
        },
        "id": "zF-NV2kABJMc",
        "outputId": "460628ad-9320-48d8-a84c-60e9003abbc6"
      },
      "source": [
        "sns.boxplot(x=data['load'])"
      ],
      "execution_count": 11,
      "outputs": [
        {
          "output_type": "execute_result",
          "data": {
            "text/plain": [
              "<matplotlib.axes._subplots.AxesSubplot at 0x7f11bf733750>"
            ]
          },
          "metadata": {
            "tags": []
          },
          "execution_count": 11
        },
        {
          "output_type": "display_data",
          "data": {
            "image/png": "[encoded data removed]",
            "text/plain": [
              "<Figure size 432x288 with 1 Axes>"
            ]
          },
          "metadata": {
            "tags": [],
            "needs_background": "light"
          }
        }
      ]
    },
    {
      "cell_type": "code",
      "metadata": {
        "colab": {
          "base_uri": "https://localhost:8080/"
        },
        "id": "CHapZ3AjBRx5",
        "outputId": "1484c587-97d9-49f5-bc8a-f36bc93061ea"
      },
      "source": [
        "from scipy import stats\n",
        "\n",
        "z = np.abs(stats.zscore(load_data.iloc[:,0]))\n",
        "\n",
        "threshold = 3\n",
        "print(np.where(z > 3))"
      ],
      "execution_count": 12,
      "outputs": [
        {
          "output_type": "stream",
          "text": [
            "(array([928]),)\n"
          ],
          "name": "stdout"
        }
      ]
    },
    {
      "cell_type": "markdown",
      "metadata": {
        "id": "bWQ-L_TgBVoF"
      },
      "source": [
        "\n",
        "**From boxplot and from above zscore calculation, we can conclude that there is one outliner. lets replace it**"
      ]
    },
    {
      "cell_type": "code",
      "metadata": {
        "id": "26wPlORKBbMe"
      },
      "source": [
        "data.iloc[928,0] = data.iloc[927,0]"
      ],
      "execution_count": 13,
      "outputs": []
    },
    {
      "cell_type": "markdown",
      "metadata": {
        "id": "GLHVxsrFBhp4"
      },
      "source": [
        "# **AFTER REPLACING THE OUTLINER**"
      ]
    },
    {
      "cell_type": "code",
      "metadata": {
        "colab": {
          "base_uri": "https://localhost:8080/",
          "height": 297
        },
        "id": "04ZvIe8RBliK",
        "outputId": "841982cb-4f28-4034-f839-9fc17f571420"
      },
      "source": [
        "sns.boxplot(x=data['load'])"
      ],
      "execution_count": 14,
      "outputs": [
        {
          "output_type": "execute_result",
          "data": {
            "text/plain": [
              "<matplotlib.axes._subplots.AxesSubplot at 0x7f11bf570290>"
            ]
          },
          "metadata": {
            "tags": []
          },
          "execution_count": 14
        },
        {
          "output_type": "display_data",
          "data": {
            "image/png": "[encoded data removed]",
            "text/plain": [
              "<Figure size 432x288 with 1 Axes>"
            ]
          },
          "metadata": {
            "tags": [],
            "needs_background": "light"
          }
        }
      ]
    },
    {
      "cell_type": "markdown",
      "metadata": {
        "id": "56VrISC-Bpz5"
      },
      "source": [
        "**now all outliners are removed and now we are good to train the model**"
      ]
    },
    {
      "cell_type": "code",
      "metadata": {
        "id": "BTzqfiroBrSK"
      },
      "source": [
        "data_x = []\n",
        "data_y = []\n",
        "for i in range(0,len(data)-24):\n",
        "  data_x.append(data.iloc[i,0])\n",
        "  data_y.append(data.iloc[i+24,0])"
      ],
      "execution_count": 15,
      "outputs": []
    },
    {
      "cell_type": "code",
      "metadata": {
        "colab": {
          "base_uri": "https://localhost:8080/",
          "height": 295
        },
        "id": "40Ilwk9SByAW",
        "outputId": "94ee05ed-3bfd-49d1-ed2b-ef1245df2731"
      },
      "source": [
        "plt.scatter(data_x,data_y)\n",
        "plt.title(\"load data visualisation\")\n",
        "plt.xlabel(\"yesterday load at ith hour\")\n",
        "plt.ylabel(\"todays load at ith hour\")\n",
        "plt.grid()"
      ],
      "execution_count": 16,
      "outputs": [
        {
          "output_type": "display_data",
          "data": {
            "image/png": "[encoded data removed]",
            "text/plain": [
              "<Figure size 432x288 with 1 Axes>"
            ]
          },
          "metadata": {
            "tags": [],
            "needs_background": "light"
          }
        }
      ]
    },
    {
      "cell_type": "code",
      "metadata": {
        "colab": {
          "base_uri": "https://localhost:8080/"
        },
        "id": "xEPJeI53B5G-",
        "outputId": "06ea3512-1047-47a3-b638-536dc3249a3a"
      },
      "source": [
        "data_xx = pd.DataFrame(data_x)\n",
        "min_x = float(data_xx.min())\n",
        "max_x = float(data_xx.max())\n",
        "data_yy = pd.DataFrame(data_y)\n",
        "min_y = float(data_yy.min())\n",
        "max_y = float(data_yy.max())\n",
        "print(min_x)\n",
        "print(min_y)\n",
        "print(max_x)\n",
        "print(max_y)"
      ],
      "execution_count": 17,
      "outputs": [
        {
          "output_type": "stream",
          "text": [
            "3377.9196\n",
            "3377.9196\n",
            "8841.66948\n",
            "8841.66948\n"
          ],
          "name": "stdout"
        }
      ]
    },
    {
      "cell_type": "markdown",
      "metadata": {
        "id": "bixAOcL9B9p3"
      },
      "source": [
        "# **DATA NORMALISATION**"
      ]
    },
    {
      "cell_type": "code",
      "metadata": {
        "id": "fPO1sXknB_nC"
      },
      "source": [
        "x = minmax_scale(data_x)\n",
        "y = minmax_scale(data_y)"
      ],
      "execution_count": 18,
      "outputs": []
    },
    {
      "cell_type": "code",
      "metadata": {
        "colab": {
          "base_uri": "https://localhost:8080/",
          "height": 415
        },
        "id": "EEwPotrLCE-6",
        "outputId": "4d006a65-6573-491f-b521-c84ace0197ac"
      },
      "source": [
        "data_norm = []\n",
        "for i in range(len(data)-24):\n",
        "  data_norm.append([x[i],y[i]])\n",
        "\n",
        "data_norm = pd.DataFrame(data_norm)\n",
        "data_norm"
      ],
      "execution_count": 19,
      "outputs": [
        {
          "output_type": "execute_result",
          "data": {
            "text/html": [
              "<div>\n",
              "<style scoped>\n",
              "    .dataframe tbody tr th:only-of-type {\n",
              "        vertical-align: middle;\n",
              "    }\n",
              "\n",
              "    .dataframe tbody tr th {\n",
              "        vertical-align: top;\n",
              "    }\n",
              "\n",
              "    .dataframe thead th {\n",
              "        text-align: right;\n",
              "    }\n",
              "</style>\n",
              "<table border=\"1\" class=\"dataframe\">\n",
              "  <thead>\n",
              "    <tr style=\"text-align: right;\">\n",
              "      <th></th>\n",
              "      <th>0</th>\n",
              "      <th>1</th>\n",
              "    </tr>\n",
              "  </thead>\n",
              "  <tbody>\n",
              "    <tr>\n",
              "      <th>0</th>\n",
              "      <td>0.293800</td>\n",
              "      <td>0.255799</td>\n",
              "    </tr>\n",
              "    <tr>\n",
              "      <th>1</th>\n",
              "      <td>0.276454</td>\n",
              "      <td>0.244501</td>\n",
              "    </tr>\n",
              "    <tr>\n",
              "      <th>2</th>\n",
              "      <td>0.310234</td>\n",
              "      <td>0.239965</td>\n",
              "    </tr>\n",
              "    <tr>\n",
              "      <th>3</th>\n",
              "      <td>0.332801</td>\n",
              "      <td>0.268466</td>\n",
              "    </tr>\n",
              "    <tr>\n",
              "      <th>4</th>\n",
              "      <td>0.414254</td>\n",
              "      <td>0.401472</td>\n",
              "    </tr>\n",
              "    <tr>\n",
              "      <th>...</th>\n",
              "      <td>...</td>\n",
              "      <td>...</td>\n",
              "    </tr>\n",
              "    <tr>\n",
              "      <th>2154</th>\n",
              "      <td>0.231719</td>\n",
              "      <td>0.228524</td>\n",
              "    </tr>\n",
              "    <tr>\n",
              "      <th>2155</th>\n",
              "      <td>0.445808</td>\n",
              "      <td>0.217797</td>\n",
              "    </tr>\n",
              "    <tr>\n",
              "      <th>2156</th>\n",
              "      <td>0.684146</td>\n",
              "      <td>0.246298</td>\n",
              "    </tr>\n",
              "    <tr>\n",
              "      <th>2157</th>\n",
              "      <td>0.514679</td>\n",
              "      <td>0.324384</td>\n",
              "    </tr>\n",
              "    <tr>\n",
              "      <th>2158</th>\n",
              "      <td>0.417306</td>\n",
              "      <td>0.651650</td>\n",
              "    </tr>\n",
              "  </tbody>\n",
              "</table>\n",
              "<p>2159 rows × 2 columns</p>\n",
              "</div>"
            ],
            "text/plain": [
              "             0         1\n",
              "0     0.293800  0.255799\n",
              "1     0.276454  0.244501\n",
              "2     0.310234  0.239965\n",
              "3     0.332801  0.268466\n",
              "4     0.414254  0.401472\n",
              "...        ...       ...\n",
              "2154  0.231719  0.228524\n",
              "2155  0.445808  0.217797\n",
              "2156  0.684146  0.246298\n",
              "2157  0.514679  0.324384\n",
              "2158  0.417306  0.651650\n",
              "\n",
              "[2159 rows x 2 columns]"
            ]
          },
          "metadata": {
            "tags": []
          },
          "execution_count": 19
        }
      ]
    },
    {
      "cell_type": "markdown",
      "metadata": {
        "id": "fdryKD1KCJFe"
      },
      "source": [
        "# **SPLITTING DATA SET**"
      ]
    },
    {
      "cell_type": "code",
      "metadata": {
        "id": "qyqX22s2CK6d"
      },
      "source": [
        "from sklearn.model_selection import train_test_split\n",
        "data_train,data_test = train_test_split(data_norm,test_size=0.1)"
      ],
      "execution_count": 20,
      "outputs": []
    },
    {
      "cell_type": "code",
      "metadata": {
        "colab": {
          "base_uri": "https://localhost:8080/",
          "height": 202
        },
        "id": "VGUqu9V6COvi",
        "outputId": "dec69149-41dd-45b9-c2de-7d6f3b293615"
      },
      "source": [
        "data_norm.head()"
      ],
      "execution_count": 21,
      "outputs": [
        {
          "output_type": "execute_result",
          "data": {
            "text/html": [
              "<div>\n",
              "<style scoped>\n",
              "    .dataframe tbody tr th:only-of-type {\n",
              "        vertical-align: middle;\n",
              "    }\n",
              "\n",
              "    .dataframe tbody tr th {\n",
              "        vertical-align: top;\n",
              "    }\n",
              "\n",
              "    .dataframe thead th {\n",
              "        text-align: right;\n",
              "    }\n",
              "</style>\n",
              "<table border=\"1\" class=\"dataframe\">\n",
              "  <thead>\n",
              "    <tr style=\"text-align: right;\">\n",
              "      <th></th>\n",
              "      <th>0</th>\n",
              "      <th>1</th>\n",
              "    </tr>\n",
              "  </thead>\n",
              "  <tbody>\n",
              "    <tr>\n",
              "      <th>0</th>\n",
              "      <td>0.293800</td>\n",
              "      <td>0.255799</td>\n",
              "    </tr>\n",
              "    <tr>\n",
              "      <th>1</th>\n",
              "      <td>0.276454</td>\n",
              "      <td>0.244501</td>\n",
              "    </tr>\n",
              "    <tr>\n",
              "      <th>2</th>\n",
              "      <td>0.310234</td>\n",
              "      <td>0.239965</td>\n",
              "    </tr>\n",
              "    <tr>\n",
              "      <th>3</th>\n",
              "      <td>0.332801</td>\n",
              "      <td>0.268466</td>\n",
              "    </tr>\n",
              "    <tr>\n",
              "      <th>4</th>\n",
              "      <td>0.414254</td>\n",
              "      <td>0.401472</td>\n",
              "    </tr>\n",
              "  </tbody>\n",
              "</table>\n",
              "</div>"
            ],
            "text/plain": [
              "          0         1\n",
              "0  0.293800  0.255799\n",
              "1  0.276454  0.244501\n",
              "2  0.310234  0.239965\n",
              "3  0.332801  0.268466\n",
              "4  0.414254  0.401472"
            ]
          },
          "metadata": {
            "tags": []
          },
          "execution_count": 21
        }
      ]
    },
    {
      "cell_type": "code",
      "metadata": {
        "id": "ZZRuZplACVBC"
      },
      "source": [
        "data_x = np.array(data_train[0])"
      ],
      "execution_count": 22,
      "outputs": []
    },
    {
      "cell_type": "code",
      "metadata": {
        "id": "lyT0NcxUCWDf"
      },
      "source": [
        "data_y = np.array(data_train[1])"
      ],
      "execution_count": 23,
      "outputs": []
    },
    {
      "cell_type": "code",
      "metadata": {
        "colab": {
          "base_uri": "https://localhost:8080/"
        },
        "id": "RF37c-xXCYai",
        "outputId": "86ff77b2-606c-402f-8b52-31dd9c8d63e1"
      },
      "source": [
        "len(data_x)"
      ],
      "execution_count": 24,
      "outputs": [
        {
          "output_type": "execute_result",
          "data": {
            "text/plain": [
              "1943"
            ]
          },
          "metadata": {
            "tags": []
          },
          "execution_count": 24
        }
      ]
    },
    {
      "cell_type": "code",
      "metadata": {
        "colab": {
          "base_uri": "https://localhost:8080/"
        },
        "id": "XsCrRfKdCgMd",
        "outputId": "6ef8097f-8b8d-4dd6-a98a-54cc47bbec74"
      },
      "source": [
        "len(data_test)"
      ],
      "execution_count": 25,
      "outputs": [
        {
          "output_type": "execute_result",
          "data": {
            "text/plain": [
              "216"
            ]
          },
          "metadata": {
            "tags": []
          },
          "execution_count": 25
        }
      ]
    },
    {
      "cell_type": "markdown",
      "metadata": {
        "id": "ez7vZm30Ckjm"
      },
      "source": [
        "# **TRAINING THE MODEL**"
      ]
    },
    {
      "cell_type": "code",
      "metadata": {
        "id": "c6Lg2R4MCmP_"
      },
      "source": [
        "#STEP 2: initialising required parameters\n",
        "m = 1\n",
        "c = -1\n",
        "iter = 1\n",
        "epochs = 100\n",
        "alpha = 0.1\n",
        "ns = len(data_train)\n",
        "error = []\n",
        "vm = 0\n",
        "vc = 0\n",
        "moment = 0.9"
      ],
      "execution_count": 26,
      "outputs": []
    },
    {
      "cell_type": "code",
      "metadata": {
        "colab": {
          "base_uri": "https://localhost:8080/"
        },
        "id": "loGBy6q8CsyS",
        "outputId": "a99fa793-4377-4a21-e433-70925eb98bd9"
      },
      "source": [
        "# while loop is runned until iter reaches epochs\n",
        "while (iter<=epochs):\n",
        "  # running for loop to calculate and update model parameters for each sample\n",
        "  for i in range(0,len(data_train)):\n",
        "    # calculating derivatives of m and c\n",
        "    der_m = (-1) * ((data_y[i] - (m * data_x[i]) - c ))*(data_x[i])\n",
        "    der_c = (-1) * (data_y[i] - (m * data_x[i]) - c )\n",
        "    # print(\"derivatives at \",i,\"   \",der_m,der_c)\n",
        "\n",
        "    # calculating change in m and c\n",
        "    vm = (moment * vm) - (alpha * der_m)\n",
        "    vc = (moment * vc) - (alpha * der_c)\n",
        "    # print(\"changes at \",i,vm,vc)\n",
        "\n",
        "    #updating m and c\n",
        "    m = m + vm\n",
        "    c = c + vc\n",
        "    # print(\"values at\",i,m,c)\n",
        "\n",
        "  err=0\n",
        "  for i in range(0,len(data_train)):\n",
        "    err+=((data_y[i] - (m * data_x[i]) - c))**2\n",
        "  err = (1/(2*len(data_train))) * err\n",
        "  error.append(err)\n",
        "    #incrementing no of iterations\n",
        "  iter = iter + 1\n",
        " \n",
        "\n",
        "  \n",
        "print(m,c)"
      ],
      "execution_count": 27,
      "outputs": [
        {
          "output_type": "stream",
          "text": [
            "0.6875727931555699 0.13247193037940405\n"
          ],
          "name": "stdout"
        }
      ]
    },
    {
      "cell_type": "code",
      "metadata": {
        "colab": {
          "base_uri": "https://localhost:8080/"
        },
        "id": "FH6b2Hb0CwtT",
        "outputId": "c8f1763d-1a2f-4c94-cf57-93aeae66728f"
      },
      "source": [
        "len(error)"
      ],
      "execution_count": 28,
      "outputs": [
        {
          "output_type": "execute_result",
          "data": {
            "text/plain": [
              "100"
            ]
          },
          "metadata": {
            "tags": []
          },
          "execution_count": 28
        }
      ]
    },
    {
      "cell_type": "code",
      "metadata": {
        "id": "nk7V7K4BCz5x"
      },
      "source": [
        "iters = np.arange(epochs)"
      ],
      "execution_count": 29,
      "outputs": []
    },
    {
      "cell_type": "code",
      "metadata": {
        "id": "J17Wdac6C3Yr"
      },
      "source": [
        "from sklearn.metrics import mean_squared_error"
      ],
      "execution_count": 30,
      "outputs": []
    },
    {
      "cell_type": "code",
      "metadata": {
        "id": "ACpyx_54C7UW"
      },
      "source": [
        "pred = []\n",
        "for i in range(len(data_train)):\n",
        "  pred.append(m*data_x[i] + c)"
      ],
      "execution_count": 31,
      "outputs": []
    },
    {
      "cell_type": "code",
      "metadata": {
        "id": "8-VG0aVaC-oY"
      },
      "source": [
        "mse_train = mean_squared_error(data_y,pred)"
      ],
      "execution_count": 33,
      "outputs": []
    },
    {
      "cell_type": "code",
      "metadata": {
        "colab": {
          "base_uri": "https://localhost:8080/",
          "height": 415
        },
        "id": "EkWe7FthDCu_",
        "outputId": "c0943f03-37de-4bff-89fd-675f70c79384"
      },
      "source": [
        "data_test"
      ],
      "execution_count": 34,
      "outputs": [
        {
          "output_type": "execute_result",
          "data": {
            "text/html": [
              "<div>\n",
              "<style scoped>\n",
              "    .dataframe tbody tr th:only-of-type {\n",
              "        vertical-align: middle;\n",
              "    }\n",
              "\n",
              "    .dataframe tbody tr th {\n",
              "        vertical-align: top;\n",
              "    }\n",
              "\n",
              "    .dataframe thead th {\n",
              "        text-align: right;\n",
              "    }\n",
              "</style>\n",
              "<table border=\"1\" class=\"dataframe\">\n",
              "  <thead>\n",
              "    <tr style=\"text-align: right;\">\n",
              "      <th></th>\n",
              "      <th>0</th>\n",
              "      <th>1</th>\n",
              "    </tr>\n",
              "  </thead>\n",
              "  <tbody>\n",
              "    <tr>\n",
              "      <th>1675</th>\n",
              "      <td>0.271547</td>\n",
              "      <td>0.458189</td>\n",
              "    </tr>\n",
              "    <tr>\n",
              "      <th>72</th>\n",
              "      <td>0.367236</td>\n",
              "      <td>0.244501</td>\n",
              "    </tr>\n",
              "    <tr>\n",
              "      <th>569</th>\n",
              "      <td>0.731220</td>\n",
              "      <td>0.835639</td>\n",
              "    </tr>\n",
              "    <tr>\n",
              "      <th>1038</th>\n",
              "      <td>0.379989</td>\n",
              "      <td>0.276169</td>\n",
              "    </tr>\n",
              "    <tr>\n",
              "      <th>1773</th>\n",
              "      <td>0.322302</td>\n",
              "      <td>0.496477</td>\n",
              "    </tr>\n",
              "    <tr>\n",
              "      <th>...</th>\n",
              "      <td>...</td>\n",
              "      <td>...</td>\n",
              "    </tr>\n",
              "    <tr>\n",
              "      <th>1109</th>\n",
              "      <td>0.317994</td>\n",
              "      <td>0.216542</td>\n",
              "    </tr>\n",
              "    <tr>\n",
              "      <th>1472</th>\n",
              "      <td>0.471142</td>\n",
              "      <td>0.589598</td>\n",
              "    </tr>\n",
              "    <tr>\n",
              "      <th>1209</th>\n",
              "      <td>0.579013</td>\n",
              "      <td>0.799806</td>\n",
              "    </tr>\n",
              "    <tr>\n",
              "      <th>874</th>\n",
              "      <td>0.501270</td>\n",
              "      <td>0.395139</td>\n",
              "    </tr>\n",
              "    <tr>\n",
              "      <th>425</th>\n",
              "      <td>0.731220</td>\n",
              "      <td>0.410973</td>\n",
              "    </tr>\n",
              "  </tbody>\n",
              "</table>\n",
              "<p>216 rows × 2 columns</p>\n",
              "</div>"
            ],
            "text/plain": [
              "             0         1\n",
              "1675  0.271547  0.458189\n",
              "72    0.367236  0.244501\n",
              "569   0.731220  0.835639\n",
              "1038  0.379989  0.276169\n",
              "1773  0.322302  0.496477\n",
              "...        ...       ...\n",
              "1109  0.317994  0.216542\n",
              "1472  0.471142  0.589598\n",
              "1209  0.579013  0.799806\n",
              "874   0.501270  0.395139\n",
              "425   0.731220  0.410973\n",
              "\n",
              "[216 rows x 2 columns]"
            ]
          },
          "metadata": {
            "tags": []
          },
          "execution_count": 34
        }
      ]
    },
    {
      "cell_type": "code",
      "metadata": {
        "id": "jwDTZ5foDIu4"
      },
      "source": [
        "pred_test = m*data_test[0] + c\n",
        "mse_test = mean_squared_error(data_test[1],pred_test)"
      ],
      "execution_count": 35,
      "outputs": []
    },
    {
      "cell_type": "markdown",
      "metadata": {
        "id": "rvkRUTyeDMk5"
      },
      "source": [
        "# **MEAN SQUARED ERRORS**"
      ]
    },
    {
      "cell_type": "code",
      "metadata": {
        "colab": {
          "base_uri": "https://localhost:8080/"
        },
        "id": "vX-1yYa_DOzs",
        "outputId": "d4a89dee-36a6-42c9-c600-ad8765d923a7"
      },
      "source": [
        "print(\"training data mean squared error:\",mse_train)\n",
        "print(\"Testing data mean squared error:\",mse_test)"
      ],
      "execution_count": 36,
      "outputs": [
        {
          "output_type": "stream",
          "text": [
            "training data mean squared error: 0.017600275543074948\n",
            "Testing data mean squared error: 0.017726145124628515\n"
          ],
          "name": "stdout"
        }
      ]
    },
    {
      "cell_type": "code",
      "metadata": {
        "colab": {
          "base_uri": "https://localhost:8080/"
        },
        "id": "aezT4-2nDVGh",
        "outputId": "fff422ec-bd72-4aad-ab3e-8634796f6c41"
      },
      "source": [
        "print(\"model parameter:\",m,c)"
      ],
      "execution_count": 37,
      "outputs": [
        {
          "output_type": "stream",
          "text": [
            "model parameter: 0.6875727931555699 0.13247193037940405\n"
          ],
          "name": "stdout"
        }
      ]
    },
    {
      "cell_type": "markdown",
      "metadata": {
        "id": "OCTkp4VxDYZN"
      },
      "source": [
        "# **VISUALISING TRAINING DATA**"
      ]
    },
    {
      "cell_type": "code",
      "metadata": {
        "colab": {
          "base_uri": "https://localhost:8080/",
          "height": 313
        },
        "id": "ysXNsMaIDZ-c",
        "outputId": "c63664b3-d513-4c2c-cc61-9d566802b47c"
      },
      "source": [
        "plt.scatter(data_train[0],data_train[1],label=\"original data points\")\n",
        "plt.plot(data_train[0],pred,color='red',label=\"predicted line\")\n",
        "plt.title(\"visualing regression line of training data\")\n",
        "plt.xlabel(\"yesterdays load\")\n",
        "plt.ylabel(\"predicted todays load\")\n",
        "plt.grid()\n",
        "plt.legend()"
      ],
      "execution_count": 38,
      "outputs": [
        {
          "output_type": "execute_result",
          "data": {
            "text/plain": [
              "<matplotlib.legend.Legend at 0x7f11bf6eb850>"
            ]
          },
          "metadata": {
            "tags": []
          },
          "execution_count": 38
        },
        {
          "output_type": "display_data",
          "data": {
            "image/png": "[encoded data removed]",
            "text/plain": [
              "<Figure size 432x288 with 1 Axes>"
            ]
          },
          "metadata": {
            "tags": [],
            "needs_background": "light"
          }
        }
      ]
    },
    {
      "cell_type": "markdown",
      "metadata": {
        "id": "Ic7zDPfbDg0_"
      },
      "source": [
        "# **VISUALISING TESTING DATA**"
      ]
    },
    {
      "cell_type": "code",
      "metadata": {
        "colab": {
          "base_uri": "https://localhost:8080/",
          "height": 313
        },
        "id": "3puin97_Djre",
        "outputId": "43d4275c-e247-4748-a8b4-e09985e43437"
      },
      "source": [
        "plt.scatter(data_test[0],data_test[1],label=\"original data points\")\n",
        "plt.plot(data_test[0],pred_test,color='red',label=\"predicted line\")\n",
        "plt.title(\"visualing regression line of testing data\")\n",
        "plt.xlabel(\"yesterdays load\")\n",
        "plt.ylabel(\"predicted todays load\")\n",
        "plt.grid()\n",
        "plt.legend()"
      ],
      "execution_count": 39,
      "outputs": [
        {
          "output_type": "execute_result",
          "data": {
            "text/plain": [
              "<matplotlib.legend.Legend at 0x7f11be55e950>"
            ]
          },
          "metadata": {
            "tags": []
          },
          "execution_count": 39
        },
        {
          "output_type": "display_data",
          "data": {
            "image/png": "[encoded data removed]",
            "text/plain": [
              "<Figure size 432x288 with 1 Axes>"
            ]
          },
          "metadata": {
            "tags": [],
            "needs_background": "light"
          }
        }
      ]
    },
    {
      "cell_type": "markdown",
      "metadata": {
        "id": "UEKaaDd9DwSV"
      },
      "source": [
        "# **DEPLOYMENT OF MODEL**"
      ]
    },
    {
      "cell_type": "code",
      "metadata": {
        "colab": {
          "base_uri": "https://localhost:8080/"
        },
        "id": "FGbujWnvD1Gy",
        "outputId": "ad6e6423-d845-4c13-957b-19baf49e3d46"
      },
      "source": [
        "input_load = float(input(\"enter yesterday load at this time : \"))\n",
        "input_load = (input_load - min_x)/(max_x-min_x)\n",
        "output_load = input_load*m+c\n",
        "\n",
        "output_load = output_load*(max_y-min_y)+min_y\n",
        "\n",
        "print(\"predicted load for this hour is : \",output_load)"
      ],
      "execution_count": 40,
      "outputs": [
        {
          "output_type": "stream",
          "text": [
            "enter yesterday load at this time : 5963.7\n",
            "predicted load for this hour is :  5879.625345828765\n"
          ],
          "name": "stdout"
        }
      ]
    }
  ]
}