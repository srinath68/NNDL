{
  "nbformat": 4,
  "nbformat_minor": 0,
  "metadata": {
    "colab": {
      "name": "Assignment 11",
      "provenance": [],
      "authorship_tag": "ABX9TyPbwCRiDtb/Fk957OM/jo9k",
      "include_colab_link": true
    },
    "kernelspec": {
      "name": "python3",
      "display_name": "Python 3"
    },
    "language_info": {
      "name": "python"
    }
  },
  "cells": [
    {
      "cell_type": "markdown",
      "metadata": {
        "id": "view-in-github",
        "colab_type": "text"
      },
      "source": [
        "<a href=\"https://colab.research.google.com/github/srinath68/NNDL/blob/main/Assignment_11.ipynb\" target=\"_parent\"><img src=\"https://colab.research.google.com/assets/colab-badge.svg\" alt=\"Open In Colab\"/></a>"
      ]
    },
    {
      "cell_type": "code",
      "metadata": {
        "id": "Z_cszj4eM-th"
      },
      "source": [
        "# NESTROV ACCELERATED GRADIENT DESCENT"
      ],
      "execution_count": 1,
      "outputs": []
    },
    {
      "cell_type": "code",
      "metadata": {
        "id": "a9gJ-Br0NOL4"
      },
      "source": [
        "# importing all necessary packages\n",
        "import numpy as np\n",
        "import pandas as pd"
      ],
      "execution_count": 2,
      "outputs": []
    },
    {
      "cell_type": "code",
      "metadata": {
        "id": "BK8gKIdHNTPf"
      },
      "source": [
        "# a 4 row sample data set on which algorithm is trained\n",
        "data = [[0.2,3.4],[0.4,3.8],[0.6,4.2],[0.8,4.6]]\n",
        "data = np.array(data)"
      ],
      "execution_count": 3,
      "outputs": []
    },
    {
      "cell_type": "code",
      "metadata": {
        "colab": {
          "base_uri": "https://localhost:8080/"
        },
        "id": "KJv7-bKQNWJL",
        "outputId": "4849e67d-0245-499c-d0f4-397cbbd7edf0"
      },
      "source": [
        "# view of data\n",
        "data"
      ],
      "execution_count": 4,
      "outputs": [
        {
          "output_type": "execute_result",
          "data": {
            "text/plain": [
              "array([[0.2, 3.4],\n",
              "       [0.4, 3.8],\n",
              "       [0.6, 4.2],\n",
              "       [0.8, 4.6]])"
            ]
          },
          "metadata": {
            "tags": []
          },
          "execution_count": 4
        }
      ]
    },
    {
      "cell_type": "code",
      "metadata": {
        "id": "KggXU9voNaRz"
      },
      "source": [
        "# STEP 1: Reading data X and Y\n",
        "data_x = []\n",
        "data_y = []\n",
        "for i in range(0,len(data)):\n",
        "  data_x.append(data[i][0])\n",
        "for i in range(0,len(data)):\n",
        "  data_y.append(data[i][1])\n",
        "data_x=np.array(data_x)\n",
        "data_y=np.array(data_y)"
      ],
      "execution_count": 5,
      "outputs": []
    },
    {
      "cell_type": "code",
      "metadata": {
        "id": "HX-1eckHNd1s"
      },
      "source": [
        "#STEP 2: initialising required parameters\n",
        "m = 1\n",
        "c = -1\n",
        "iter = 1\n",
        "epochs = 10000\n",
        "alpha = 0.1\n",
        "ns = len(data)\n",
        "error = []\n",
        "vm = 0\n",
        "vc = 0\n",
        "moment = 0.9"
      ],
      "execution_count": 6,
      "outputs": []
    },
    {
      "cell_type": "code",
      "metadata": {
        "id": "qmGXxUDdNhZe"
      },
      "source": [
        "import matplotlib.pyplot as plt"
      ],
      "execution_count": 7,
      "outputs": []
    },
    {
      "cell_type": "code",
      "metadata": {
        "colab": {
          "base_uri": "https://localhost:8080/"
        },
        "id": "WiyDDdKxNlqe",
        "outputId": "ffcad44d-021b-402b-8bb1-c5e13fcc0234"
      },
      "source": [
        "# while loop is runned until iter reaches epochs\n",
        "while (iter<=epochs):\n",
        "  # running for loop to calculate and update model parameters for each sample\n",
        "  for i in range(0,len(data)):\n",
        "\n",
        "    #  calculating error and storing in an list\n",
        "    err = (0.5) * ((data_y[i] - (m * data_x[i]) - c))**2\n",
        "    error.append(err)\n",
        "\n",
        "    # calculating derivatives of m and c\n",
        "    der_m = (-1) * (data_y[i] - ((m+(moment*vm))*data_x[i]) - (c+(moment*vc)))*(data_x[i])\n",
        "    der_c = (-1) * (data_y[i] - ((m+(moment*vm))*data_x[i]) - (c+(moment*vc)))\n",
        "    # print(\"derivatives at \",i,\"   \",der_m,der_c)\n",
        "\n",
        "    # calculating change in m and c\n",
        "    vm = (moment * vm) - (alpha * der_m)\n",
        "    vc = (moment * vc) - (alpha * der_c)\n",
        "    # print(\"changes at \",i,vm,vc)\n",
        "\n",
        "    #updating m and c\n",
        "    m = m + vm\n",
        "    c = c + vc\n",
        "    # print(\"values at\",i,m,c)\n",
        "\n",
        "    #incrementing no of iterations\n",
        "  iter = iter + 1\n",
        " \n",
        "\n",
        "  \n",
        "print(m,c)"
      ],
      "execution_count": 8,
      "outputs": [
        {
          "output_type": "stream",
          "text": [
            "2.000000000000001 2.9999999999999996\n"
          ],
          "name": "stdout"
        }
      ]
    },
    {
      "cell_type": "code",
      "metadata": {
        "colab": {
          "base_uri": "https://localhost:8080/"
        },
        "id": "wmK8rISYNpzb",
        "outputId": "cd19411e-4513-4534-da85-939fda446f14"
      },
      "source": [
        "# computing mean squared error\n",
        "# minimised mean squared error of training data \n",
        "# represented in exponential form\n",
        "mse = 0\n",
        "for i in range(0,len(data_x)):\n",
        "  mse += (data_y[i] - (m*data_x[i]) - c)**2\n",
        "\n",
        "mse = mse/len(data)\n",
        "mse"
      ],
      "execution_count": 9,
      "outputs": [
        {
          "output_type": "execute_result",
          "data": {
            "text/plain": [
              "9.860761315262648e-32"
            ]
          },
          "metadata": {
            "tags": []
          },
          "execution_count": 9
        }
      ]
    },
    {
      "cell_type": "code",
      "metadata": {
        "colab": {
          "base_uri": "https://localhost:8080/"
        },
        "id": "92j1P-qkNtuE",
        "outputId": "b9f90e18-fcd7-4980-c049-f32b96a9a265"
      },
      "source": [
        "pred = []\n",
        "# predictions of training data\n",
        "print(\"predicted\",\" original\")\n",
        "for i in range(0,len(data)):\n",
        "  pred.append(m*data_x[i] + c)\n",
        "\n",
        "pred"
      ],
      "execution_count": 10,
      "outputs": [
        {
          "output_type": "stream",
          "text": [
            "predicted  original\n"
          ],
          "name": "stdout"
        },
        {
          "output_type": "execute_result",
          "data": {
            "text/plain": [
              "[3.4, 3.8, 4.2, 4.6000000000000005]"
            ]
          },
          "metadata": {
            "tags": []
          },
          "execution_count": 10
        }
      ]
    },
    {
      "cell_type": "code",
      "metadata": {
        "colab": {
          "base_uri": "https://localhost:8080/",
          "height": 295
        },
        "id": "i2m-8QRZNxBi",
        "outputId": "a9b3ffe2-7909-4a14-b6d7-6fd46088e1aa"
      },
      "source": [
        "# plotting graph\n",
        "plt.scatter(data_x,data_y,label=\"original data points\")\n",
        "plt.plot(data_x,pred,'orange',label=\"regression line using NAGD\")\n",
        "plt.legend()\n",
        "plt.grid()\n",
        "plt.title(\"linear regression using nesterov accelerated gradient descent\")\n",
        "plt.xlabel(\"data x\")\n",
        "plt.ylabel(\"data y\")\n",
        "plt.show()"
      ],
      "execution_count": 11,
      "outputs": [
        {
          "output_type": "display_data",
          "data": {
            "image/png": "[encoded data removed]",
            "text/plain": [
              "<Figure size 432x288 with 1 Axes>"
            ]
          },
          "metadata": {
            "tags": [],
            "needs_background": "light"
          }
        }
      ]
    }
  ]
}