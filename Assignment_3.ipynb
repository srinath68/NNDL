{
  "nbformat": 4,
  "nbformat_minor": 0,
  "metadata": {
    "colab": {
      "name": "Assignment 3",
      "provenance": [],
      "authorship_tag": "ABX9TyN3Xp5pTwfO+HlpWRfwTod+",
      "include_colab_link": true
    },
    "kernelspec": {
      "name": "python3",
      "display_name": "Python 3"
    },
    "language_info": {
      "name": "python"
    }
  },
  "cells": [
    {
      "cell_type": "markdown",
      "metadata": {
        "id": "view-in-github",
        "colab_type": "text"
      },
      "source": [
        "<a href=\"https://colab.research.google.com/github/srinath68/NNDL/blob/main/Assignment_3.ipynb\" target=\"_parent\"><img src=\"https://colab.research.google.com/assets/colab-badge.svg\" alt=\"Open In Colab\"/></a>"
      ]
    },
    {
      "cell_type": "code",
      "metadata": {
        "colab": {
          "base_uri": "https://localhost:8080/"
        },
        "id": "eH4OlVBNaC9e",
        "outputId": "0a9b711d-daa8-4692-8ead-60cd0ff43719"
      },
      "source": [
        "import numpy as np\n",
        "import pandas as pd\n",
        "import matplotlib.pyplot as plt\n",
        " \n",
        "data=np.array([[0.2,3.4],[0.4,3.8],[0.6,4.2],[0.8,4.6]])\n",
        "data"
      ],
      "execution_count": 1,
      "outputs": [
        {
          "output_type": "execute_result",
          "data": {
            "text/plain": [
              "array([[0.2, 3.4],\n",
              "       [0.4, 3.8],\n",
              "       [0.6, 4.2],\n",
              "       [0.8, 4.6]])"
            ]
          },
          "metadata": {
            "tags": []
          },
          "execution_count": 1
        }
      ]
    },
    {
      "cell_type": "code",
      "metadata": {
        "id": "oXC_sUfmaUYc"
      },
      "source": [
        "x=[]\n",
        "y=[]\n",
        "for i in range(0,len(data)):\n",
        "  x.append(data[i][0])\n",
        "for i in range(0,len(data)):\n",
        "  y.append(data[i][1])\n",
        "x=np.array(x)\n",
        "y=np.array(y)"
      ],
      "execution_count": 3,
      "outputs": []
    },
    {
      "cell_type": "code",
      "metadata": {
        "id": "5xXcugI6asFt"
      },
      "source": [
        "#Intialaization\n",
        "m=1\n",
        "c=-1\n",
        "iter=1\n",
        "ns=len(data)\n",
        "n=0.1\n",
        "epochs=100\n",
        "error=[]"
      ],
      "execution_count": 4,
      "outputs": []
    },
    {
      "cell_type": "code",
      "metadata": {
        "colab": {
          "base_uri": "https://localhost:8080/"
        },
        "id": "eSusIyMXa1qq",
        "outputId": "3b7d8f16-6089-4d24-a821-8a0708be5692"
      },
      "source": [
        "while (iter<=epochs):\n",
        "  for i in range(0,ns):\n",
        "    er=(0.5)*((y[i] - (m*x[i]) - c)**2)\n",
        "    error.append(er)\n",
        " \n",
        "  #derivatives of w.r.t 'm' and 'c'\n",
        "    der_m = (-1)*(y[i] - (m*x[i]) - c)*x[i]\n",
        "    der_c = (-1)*(y[i] - (m*x[i]) - c)\n",
        " \n",
        "    #change in 'm' and 'c'\n",
        "    m_change = (-1)*n*der_m\n",
        "    c_change = (-1)*n*der_c\n",
        " \n",
        "    #update 'm' and 'c' values\n",
        "    m = m + m_change\n",
        "    c = c + c_change\n",
        "  \n",
        "  iter = iter + 1\n",
        "print(\"Optimal Values of m,c are \\n\"+str(m),str(c))"
      ],
      "execution_count": 5,
      "outputs": [
        {
          "output_type": "stream",
          "text": [
            "Optimal Values of m,c are \n",
            "2.1388522737865148 2.922605293889677\n"
          ],
          "name": "stdout"
        }
      ]
    },
    {
      "cell_type": "code",
      "metadata": {
        "colab": {
          "base_uri": "https://localhost:8080/"
        },
        "id": "02BRMXMTa6C2",
        "outputId": "56b6e4f5-2925-4dac-b6cf-de15022add53"
      },
      "source": [
        "# Mean Sqaure Error (MSE)\n",
        " \n",
        "mse=0\n",
        "for i in range(0,ns):\n",
        "  mse = mse + ((y[i] - (m*x[i]) - c)**2)\n",
        "mse = mse/ns\n",
        "mse"
      ],
      "execution_count": 6,
      "outputs": [
        {
          "output_type": "execute_result",
          "data": {
            "text/plain": [
              "0.0010274957921514245"
            ]
          },
          "metadata": {
            "tags": []
          },
          "execution_count": 6
        }
      ]
    },
    {
      "cell_type": "code",
      "metadata": {
        "colab": {
          "base_uri": "https://localhost:8080/"
        },
        "id": "X9kWUUW2bCjo",
        "outputId": "7a87403f-5d81-4629-a747-bca84b1ac76c"
      },
      "source": [
        "predict = []\n",
        "for i in range(0,ns):\n",
        "  predict.append(m*x[i]+c)\n",
        "predict"
      ],
      "execution_count": 7,
      "outputs": [
        {
          "output_type": "execute_result",
          "data": {
            "text/plain": [
              "[3.35037574864698, 3.7781462034042828, 4.205916658161586, 4.633687112918889]"
            ]
          },
          "metadata": {
            "tags": []
          },
          "execution_count": 7
        }
      ]
    },
    {
      "cell_type": "code",
      "metadata": {
        "colab": {
          "base_uri": "https://localhost:8080/",
          "height": 265
        },
        "id": "_5FRSLtobGm5",
        "outputId": "66339736-71c6-4ce7-a5f3-d854fd839b9e"
      },
      "source": [
        "plt.plot(x,y,'--',color='b',label='Original Data')\n",
        "plt.scatter(x,predict,color='r',label='Predicted Data')\n",
        "plt.xlabel('X-DATA')\n",
        "plt.ylabel('Y-DATA')\n",
        "plt.legend()\n",
        "plt.show()"
      ],
      "execution_count": 8,
      "outputs": [
        {
          "output_type": "display_data",
          "data": {
            "image/png": "[encoded data removed]",
            "text/plain": [
              "<Figure size 432x288 with 1 Axes>"
            ]
          },
          "metadata": {
            "tags": [],
            "needs_background": "light"
          }
        }
      ]
    }
  ]
}